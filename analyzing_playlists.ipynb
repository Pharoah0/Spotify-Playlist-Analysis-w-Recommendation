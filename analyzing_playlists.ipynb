{
 "cells": [
  {
   "cell_type": "markdown",
   "id": "9b408be9",
   "metadata": {},
   "source": [
    "# Spotify Playlist Analysis with Song Recommendation\n",
    "\n",
    "Author: Pharoah Evelyn"
   ]
  },
  {
   "cell_type": "markdown",
   "id": "4a415d01",
   "metadata": {},
   "source": [
    "![Spotify Logo](./images/Spotify_Logo.jpeg)"
   ]
  },
  {
   "cell_type": "code",
   "execution_count": 1,
   "id": "a780b40a",
   "metadata": {},
   "outputs": [],
   "source": [
    "# Standard Packages\n",
    "import glob\n",
    "import numpy as np\n",
    "import pandas as pd\n",
    "\n",
    "# Data Visualization\n",
    "import matplotlib.pyplot as plt\n",
    "%matplotlib inline\n",
    "import seaborn as sns\n",
    "\n",
    "# Sklearn Modules\n",
    "from sklearn import tree\n",
    "from sklearn.cluster import KMeans\n",
    "from sklearn.ensemble import RandomForestClassifier\n",
    "from sklearn.linear_model import LogisticRegression\n",
    "\n",
    "from sklearn.metrics import accuracy_score, classification_report, mean_absolute_error,\\\n",
    "        mean_squared_error, ndcg_score, plot_roc_curve, precision_score, recall_score,\\\n",
    "        roc_curve, roc_auc_score, plot_confusion_matrix\n",
    "\n",
    "from sklearn.metrics.pairwise import cosine_similarity, manhattan_distances\n",
    "from sklearn.model_selection import GridSearchCV, train_test_split\n",
    "from sklearn.neighbors import KNeighborsClassifier\n",
    "from sklearn.preprocessing import MinMaxScaler, normalize, StandardScaler\n",
    "from sklearn.svm import SVC\n",
    "\n",
    "# Progress bar\n",
    "from tqdm import tqdm\n",
    "\n",
    "# Ignore Warnings\n",
    "import warnings\n",
    "warnings.filterwarnings('ignore')"
   ]
  },
  {
   "cell_type": "markdown",
   "id": "7fcf2ae2",
   "metadata": {},
   "source": [
    "# Exploratory Data Analysis\n",
    "\n",
    "First, let us import the data captured from our Collection using the Spotify API"
   ]
  },
  {
   "cell_type": "code",
   "execution_count": 2,
   "id": "25ecc7e4",
   "metadata": {},
   "outputs": [],
   "source": [
    "# My playlist\n",
    "\n",
    "my_playlist = pd.read_csv('data/my_playlist.csv')"
   ]
  },
  {
   "cell_type": "markdown",
   "id": "fa77ed7c",
   "metadata": {},
   "source": [
    "Next, we can import all other playlists into a separated dataframe!"
   ]
  },
  {
   "cell_type": "code",
   "execution_count": 3,
   "id": "2699c922",
   "metadata": {},
   "outputs": [],
   "source": [
    "# Get CSV files list from a folder\n",
    "path = './data'\n",
    "csv_files = glob.glob(path + \"/*.csv\")\n",
    "\n",
    "# Read each CSV file into DataFrame\n",
    "# This creates a list of dataframes. \n",
    "# However, we must not include our target playlist as we need it for its own analysis\n",
    "df_list = (pd.read_csv(file) for file in csv_files if file != 'my_playlist.csv')\n",
    "\n",
    "# Concatenate all DataFrames\n",
    "recommended_songs = pd.concat(df_list, ignore_index=True)"
   ]
  },
  {
   "cell_type": "markdown",
   "id": "0102dec8",
   "metadata": {},
   "source": [
    "#### This dataframe contains all the songs in my playlist of choice:\n",
    "![My_Playlist](./images/My_Playlist.png)"
   ]
  },
  {
   "cell_type": "code",
   "execution_count": 4,
   "id": "4170ae49",
   "metadata": {
    "scrolled": true
   },
   "outputs": [
    {
     "data": {
      "text/html": [
       "<div>\n",
       "<style scoped>\n",
       "    .dataframe tbody tr th:only-of-type {\n",
       "        vertical-align: middle;\n",
       "    }\n",
       "\n",
       "    .dataframe tbody tr th {\n",
       "        vertical-align: top;\n",
       "    }\n",
       "\n",
       "    .dataframe thead th {\n",
       "        text-align: right;\n",
       "    }\n",
       "</style>\n",
       "<table border=\"1\" class=\"dataframe\">\n",
       "  <thead>\n",
       "    <tr style=\"text-align: right;\">\n",
       "      <th></th>\n",
       "      <th>name</th>\n",
       "      <th>album</th>\n",
       "      <th>artist</th>\n",
       "      <th>release_date</th>\n",
       "      <th>length</th>\n",
       "      <th>popularity</th>\n",
       "      <th>acousticness</th>\n",
       "      <th>danceability</th>\n",
       "      <th>valence</th>\n",
       "      <th>key</th>\n",
       "      <th>energy</th>\n",
       "      <th>instrumentalness</th>\n",
       "      <th>liveness</th>\n",
       "      <th>loudness</th>\n",
       "      <th>speechiness</th>\n",
       "      <th>mode</th>\n",
       "      <th>tempo</th>\n",
       "      <th>time_signature</th>\n",
       "    </tr>\n",
       "  </thead>\n",
       "  <tbody>\n",
       "    <tr>\n",
       "      <th>199</th>\n",
       "      <td>Oh How Lovely (feat. Tomppabeats)</td>\n",
       "      <td>For Her</td>\n",
       "      <td>wüsh</td>\n",
       "      <td>2016-11-04</td>\n",
       "      <td>80308</td>\n",
       "      <td>43</td>\n",
       "      <td>0.248</td>\n",
       "      <td>0.793</td>\n",
       "      <td>0.407</td>\n",
       "      <td>3</td>\n",
       "      <td>0.412</td>\n",
       "      <td>0.000</td>\n",
       "      <td>0.537</td>\n",
       "      <td>-10.517</td>\n",
       "      <td>0.2100</td>\n",
       "      <td>1</td>\n",
       "      <td>77.729</td>\n",
       "      <td>4</td>\n",
       "    </tr>\n",
       "    <tr>\n",
       "      <th>200</th>\n",
       "      <td>Space Cowboy</td>\n",
       "      <td>Ipanema</td>\n",
       "      <td>Saib</td>\n",
       "      <td>2015-04-28</td>\n",
       "      <td>152625</td>\n",
       "      <td>46</td>\n",
       "      <td>0.474</td>\n",
       "      <td>0.854</td>\n",
       "      <td>0.722</td>\n",
       "      <td>0</td>\n",
       "      <td>0.689</td>\n",
       "      <td>0.816</td>\n",
       "      <td>0.153</td>\n",
       "      <td>-15.050</td>\n",
       "      <td>0.1700</td>\n",
       "      <td>1</td>\n",
       "      <td>97.993</td>\n",
       "      <td>4</td>\n",
       "    </tr>\n",
       "    <tr>\n",
       "      <th>201</th>\n",
       "      <td>m i s t</td>\n",
       "      <td>ep seeds</td>\n",
       "      <td>eevee</td>\n",
       "      <td>2017-03-16</td>\n",
       "      <td>118182</td>\n",
       "      <td>56</td>\n",
       "      <td>0.354</td>\n",
       "      <td>0.624</td>\n",
       "      <td>0.395</td>\n",
       "      <td>1</td>\n",
       "      <td>0.229</td>\n",
       "      <td>0.470</td>\n",
       "      <td>0.116</td>\n",
       "      <td>-15.698</td>\n",
       "      <td>0.0460</td>\n",
       "      <td>0</td>\n",
       "      <td>130.069</td>\n",
       "      <td>4</td>\n",
       "    </tr>\n",
       "    <tr>\n",
       "      <th>202</th>\n",
       "      <td>Football Head</td>\n",
       "      <td>Pleasure Palette</td>\n",
       "      <td>Flamingosis</td>\n",
       "      <td>2016-06-10</td>\n",
       "      <td>224916</td>\n",
       "      <td>4</td>\n",
       "      <td>0.660</td>\n",
       "      <td>0.662</td>\n",
       "      <td>0.584</td>\n",
       "      <td>1</td>\n",
       "      <td>0.212</td>\n",
       "      <td>0.570</td>\n",
       "      <td>0.609</td>\n",
       "      <td>-14.638</td>\n",
       "      <td>0.0523</td>\n",
       "      <td>1</td>\n",
       "      <td>89.996</td>\n",
       "      <td>4</td>\n",
       "    </tr>\n",
       "    <tr>\n",
       "      <th>203</th>\n",
       "      <td>Caliber</td>\n",
       "      <td>Caliber</td>\n",
       "      <td>yeyts.</td>\n",
       "      <td>2020-09-14</td>\n",
       "      <td>130588</td>\n",
       "      <td>46</td>\n",
       "      <td>0.575</td>\n",
       "      <td>0.754</td>\n",
       "      <td>0.533</td>\n",
       "      <td>2</td>\n",
       "      <td>0.281</td>\n",
       "      <td>0.752</td>\n",
       "      <td>0.124</td>\n",
       "      <td>-9.757</td>\n",
       "      <td>0.1120</td>\n",
       "      <td>1</td>\n",
       "      <td>85.191</td>\n",
       "      <td>4</td>\n",
       "    </tr>\n",
       "  </tbody>\n",
       "</table>\n",
       "</div>"
      ],
      "text/plain": [
       "                                  name             album       artist  \\\n",
       "199  Oh How Lovely (feat. Tomppabeats)           For Her         wüsh   \n",
       "200                       Space Cowboy           Ipanema         Saib   \n",
       "201                            m i s t          ep seeds        eevee   \n",
       "202                      Football Head  Pleasure Palette  Flamingosis   \n",
       "203                            Caliber           Caliber       yeyts.   \n",
       "\n",
       "    release_date  length  popularity  acousticness  danceability  valence  \\\n",
       "199   2016-11-04   80308          43         0.248         0.793    0.407   \n",
       "200   2015-04-28  152625          46         0.474         0.854    0.722   \n",
       "201   2017-03-16  118182          56         0.354         0.624    0.395   \n",
       "202   2016-06-10  224916           4         0.660         0.662    0.584   \n",
       "203   2020-09-14  130588          46         0.575         0.754    0.533   \n",
       "\n",
       "     key  energy  instrumentalness  liveness  loudness  speechiness  mode  \\\n",
       "199    3   0.412             0.000     0.537   -10.517       0.2100     1   \n",
       "200    0   0.689             0.816     0.153   -15.050       0.1700     1   \n",
       "201    1   0.229             0.470     0.116   -15.698       0.0460     0   \n",
       "202    1   0.212             0.570     0.609   -14.638       0.0523     1   \n",
       "203    2   0.281             0.752     0.124    -9.757       0.1120     1   \n",
       "\n",
       "       tempo  time_signature  \n",
       "199   77.729               4  \n",
       "200   97.993               4  \n",
       "201  130.069               4  \n",
       "202   89.996               4  \n",
       "203   85.191               4  "
      ]
     },
     "execution_count": 4,
     "metadata": {},
     "output_type": "execute_result"
    }
   ],
   "source": [
    "my_playlist.tail()"
   ]
  },
  {
   "cell_type": "code",
   "execution_count": 5,
   "id": "86690769",
   "metadata": {
    "scrolled": false
   },
   "outputs": [
    {
     "data": {
      "text/html": [
       "<div>\n",
       "<style scoped>\n",
       "    .dataframe tbody tr th:only-of-type {\n",
       "        vertical-align: middle;\n",
       "    }\n",
       "\n",
       "    .dataframe tbody tr th {\n",
       "        vertical-align: top;\n",
       "    }\n",
       "\n",
       "    .dataframe thead th {\n",
       "        text-align: right;\n",
       "    }\n",
       "</style>\n",
       "<table border=\"1\" class=\"dataframe\">\n",
       "  <thead>\n",
       "    <tr style=\"text-align: right;\">\n",
       "      <th></th>\n",
       "      <th>name</th>\n",
       "      <th>album</th>\n",
       "      <th>artist</th>\n",
       "      <th>release_date</th>\n",
       "      <th>length</th>\n",
       "      <th>popularity</th>\n",
       "      <th>acousticness</th>\n",
       "      <th>danceability</th>\n",
       "      <th>valence</th>\n",
       "      <th>key</th>\n",
       "      <th>energy</th>\n",
       "      <th>instrumentalness</th>\n",
       "      <th>liveness</th>\n",
       "      <th>loudness</th>\n",
       "      <th>speechiness</th>\n",
       "      <th>mode</th>\n",
       "      <th>tempo</th>\n",
       "      <th>time_signature</th>\n",
       "    </tr>\n",
       "  </thead>\n",
       "  <tbody>\n",
       "    <tr>\n",
       "      <th>0</th>\n",
       "      <td>Awake (with Mahalia)</td>\n",
       "      <td>Awake</td>\n",
       "      <td>Chiiild</td>\n",
       "      <td>2021-04-02</td>\n",
       "      <td>228626</td>\n",
       "      <td>0</td>\n",
       "      <td>0.315</td>\n",
       "      <td>0.504</td>\n",
       "      <td>0.665</td>\n",
       "      <td>5</td>\n",
       "      <td>0.579</td>\n",
       "      <td>0.054200</td>\n",
       "      <td>0.1100</td>\n",
       "      <td>-7.418</td>\n",
       "      <td>0.0423</td>\n",
       "      <td>0</td>\n",
       "      <td>83.973</td>\n",
       "      <td>4</td>\n",
       "    </tr>\n",
       "    <tr>\n",
       "      <th>1</th>\n",
       "      <td>Bound (with Blood Orange)</td>\n",
       "      <td>Bound (with Blood Orange)</td>\n",
       "      <td>Wet</td>\n",
       "      <td>2021-10-20</td>\n",
       "      <td>220332</td>\n",
       "      <td>48</td>\n",
       "      <td>0.172</td>\n",
       "      <td>0.629</td>\n",
       "      <td>0.270</td>\n",
       "      <td>10</td>\n",
       "      <td>0.515</td>\n",
       "      <td>0.133000</td>\n",
       "      <td>0.1440</td>\n",
       "      <td>-10.128</td>\n",
       "      <td>0.0785</td>\n",
       "      <td>0</td>\n",
       "      <td>191.706</td>\n",
       "      <td>4</td>\n",
       "    </tr>\n",
       "    <tr>\n",
       "      <th>2</th>\n",
       "      <td>dirty dancer</td>\n",
       "      <td>dirty dancer</td>\n",
       "      <td>Orion Sun</td>\n",
       "      <td>2022-02-08</td>\n",
       "      <td>169720</td>\n",
       "      <td>56</td>\n",
       "      <td>0.376</td>\n",
       "      <td>0.702</td>\n",
       "      <td>0.515</td>\n",
       "      <td>7</td>\n",
       "      <td>0.525</td>\n",
       "      <td>0.066700</td>\n",
       "      <td>0.1190</td>\n",
       "      <td>-5.028</td>\n",
       "      <td>0.0313</td>\n",
       "      <td>0</td>\n",
       "      <td>113.856</td>\n",
       "      <td>4</td>\n",
       "    </tr>\n",
       "    <tr>\n",
       "      <th>3</th>\n",
       "      <td>lived to love</td>\n",
       "      <td>lived to love</td>\n",
       "      <td>808vic</td>\n",
       "      <td>2021-09-22</td>\n",
       "      <td>255517</td>\n",
       "      <td>47</td>\n",
       "      <td>0.835</td>\n",
       "      <td>0.714</td>\n",
       "      <td>0.562</td>\n",
       "      <td>9</td>\n",
       "      <td>0.798</td>\n",
       "      <td>0.013300</td>\n",
       "      <td>0.0969</td>\n",
       "      <td>-10.997</td>\n",
       "      <td>0.0532</td>\n",
       "      <td>0</td>\n",
       "      <td>115.972</td>\n",
       "      <td>4</td>\n",
       "    </tr>\n",
       "    <tr>\n",
       "      <th>4</th>\n",
       "      <td>Intense</td>\n",
       "      <td>Blue Man</td>\n",
       "      <td>Cero Ismael</td>\n",
       "      <td>2021-02-18</td>\n",
       "      <td>141052</td>\n",
       "      <td>38</td>\n",
       "      <td>0.657</td>\n",
       "      <td>0.957</td>\n",
       "      <td>0.338</td>\n",
       "      <td>5</td>\n",
       "      <td>0.233</td>\n",
       "      <td>0.000036</td>\n",
       "      <td>0.1440</td>\n",
       "      <td>-11.533</td>\n",
       "      <td>0.1110</td>\n",
       "      <td>1</td>\n",
       "      <td>113.943</td>\n",
       "      <td>4</td>\n",
       "    </tr>\n",
       "  </tbody>\n",
       "</table>\n",
       "</div>"
      ],
      "text/plain": [
       "                        name                      album       artist  \\\n",
       "0       Awake (with Mahalia)                      Awake      Chiiild   \n",
       "1  Bound (with Blood Orange)  Bound (with Blood Orange)          Wet   \n",
       "2               dirty dancer               dirty dancer    Orion Sun   \n",
       "3              lived to love              lived to love       808vic   \n",
       "4                    Intense                   Blue Man  Cero Ismael   \n",
       "\n",
       "  release_date  length  popularity  acousticness  danceability  valence  key  \\\n",
       "0   2021-04-02  228626           0         0.315         0.504    0.665    5   \n",
       "1   2021-10-20  220332          48         0.172         0.629    0.270   10   \n",
       "2   2022-02-08  169720          56         0.376         0.702    0.515    7   \n",
       "3   2021-09-22  255517          47         0.835         0.714    0.562    9   \n",
       "4   2021-02-18  141052          38         0.657         0.957    0.338    5   \n",
       "\n",
       "   energy  instrumentalness  liveness  loudness  speechiness  mode    tempo  \\\n",
       "0   0.579          0.054200    0.1100    -7.418       0.0423     0   83.973   \n",
       "1   0.515          0.133000    0.1440   -10.128       0.0785     0  191.706   \n",
       "2   0.525          0.066700    0.1190    -5.028       0.0313     0  113.856   \n",
       "3   0.798          0.013300    0.0969   -10.997       0.0532     0  115.972   \n",
       "4   0.233          0.000036    0.1440   -11.533       0.1110     1  113.943   \n",
       "\n",
       "   time_signature  \n",
       "0               4  \n",
       "1               4  \n",
       "2               4  \n",
       "3               4  \n",
       "4               4  "
      ]
     },
     "execution_count": 5,
     "metadata": {},
     "output_type": "execute_result"
    }
   ],
   "source": [
    "recommended_songs.head()"
   ]
  },
  {
   "cell_type": "markdown",
   "id": "ab35b16b",
   "metadata": {},
   "source": [
    "This dataframe encapsulates songs from the below libraries:\n",
    "\n",
    "#### Playlists based on my recent listening History\n",
    "![Based_on_Recent_Listening](./images/Based_on_Recent_Listening.png)\n",
    "<br>\n",
    "#### Playlists curated based on what I like\n",
    "![More_of_What_You_Like](./images/More_of_What_You_Like.png)"
   ]
  },
  {
   "cell_type": "code",
   "execution_count": 6,
   "id": "c0c295af",
   "metadata": {},
   "outputs": [],
   "source": [
    "# Defining a function to create distribution plots of each relevant column\n",
    "\n",
    "def vizualize_data(data):\n",
    "    \n",
    "    #Visualisation of Variability for each column in the dataframe\n",
    "\n",
    "    fig,ax = plt.subplots(2,7,figsize=(20,10))\n",
    "\n",
    "    sns.distplot(data['length'],bins=35,ax=ax[0,0])\n",
    "    sns.distplot(data['popularity'],bins=35,ax=ax[0,1])\n",
    "    sns.distplot(data['acousticness'],bins=35,ax=ax[0,2])\n",
    "    sns.distplot(data['danceability'],bins=35,ax=ax[0,3])\n",
    "    sns.distplot(data['valence'],bins=35,ax=ax[0,4])\n",
    "    sns.distplot(data['key'],bins=35,ax=ax[0,5])\n",
    "    sns.distplot(data['energy'],bins=35,ax=ax[0,6])\n",
    "    sns.distplot(data['instrumentalness'],bins=35,ax=ax[1,0])\n",
    "    sns.distplot(data['liveness'],bins=35,ax=ax[1,1])\n",
    "    sns.distplot(data['loudness'],bins=35,ax=ax[1,2])\n",
    "    sns.distplot(data['speechiness'],bins=35,ax=ax[1,3])\n",
    "    sns.distplot(data['mode'],bins=35,ax=ax[1,4])\n",
    "    sns.distplot(data['tempo'],bins=35,ax=ax[1,5])\n",
    "    sns.distplot(data['time_signature'],bins=35,ax=ax[1,6])"
   ]
  },
  {
   "cell_type": "code",
   "execution_count": 7,
   "id": "701afdac",
   "metadata": {
    "scrolled": false
   },
   "outputs": [
    {
     "data": {
      "image/png": "[encoded data removed]",
      "text/plain": [
       "<Figure size 1440x720 with 14 Axes>"
      ]
     },
     "metadata": {
      "needs_background": "light"
     },
     "output_type": "display_data"
    }
   ],
   "source": [
    "vizualize_data(my_playlist)"
   ]
  },
  {
   "cell_type": "code",
   "execution_count": 8,
   "id": "048b2c39",
   "metadata": {
    "scrolled": false
   },
   "outputs": [
    {
     "data": {
      "text/plain": [
       "<AxesSubplot:>"
      ]
     },
     "execution_count": 8,
     "metadata": {},
     "output_type": "execute_result"
    },
    {
     "data": {
      "image/png": "[encoded data removed]",
      "text/plain": [
       "<Figure size 1440x720 with 2 Axes>"
      ]
     },
     "metadata": {
      "needs_background": "light"
     },
     "output_type": "display_data"
    }
   ],
   "source": [
    "# My playlist\n",
    "plt.figure(figsize=(20,10))\n",
    "corr = my_playlist.corr().abs()\n",
    "sns.heatmap(corr, center=0, annot=True)"
   ]
  },
  {
   "cell_type": "markdown",
   "id": "65f04888",
   "metadata": {},
   "source": [
    "#### Interpretation:\n",
    "* This heatmap shows me that `energy`, `instrumentalness`, `acousticness`, & `loudness` have the most impact when it comes to the songs I have in my playlist\n",
    "* Other key pairings I am noticing are `valence` & `danceability`, \n",
    "* Song `length`, `speechiness`, `popularity` & `time signature` appear to be the least relevant when it comes to the impact of features in this playlist\n",
    "    * With that said, I usually don't add songs with vocals (or verses) to this playlist. So I will keep speechiness as a key marker\n",
    "* `energy` and `loudness` in particular have the highest multicollinearity seen on this chart. This makes sense to me, as a song with high energy tends to have an increasing rhythmic complexity, whether melodically or in the background accompaniment with various instruments (as reflected in this chart as well\n",
    "\n",
    "#### Investigating the statistics of the relevant columns"
   ]
  },
  {
   "cell_type": "code",
   "execution_count": 9,
   "id": "cc17df41",
   "metadata": {
    "scrolled": true
   },
   "outputs": [
    {
     "data": {
      "text/html": [
       "<div>\n",
       "<style scoped>\n",
       "    .dataframe tbody tr th:only-of-type {\n",
       "        vertical-align: middle;\n",
       "    }\n",
       "\n",
       "    .dataframe tbody tr th {\n",
       "        vertical-align: top;\n",
       "    }\n",
       "\n",
       "    .dataframe thead th {\n",
       "        text-align: right;\n",
       "    }\n",
       "</style>\n",
       "<table border=\"1\" class=\"dataframe\">\n",
       "  <thead>\n",
       "    <tr style=\"text-align: right;\">\n",
       "      <th></th>\n",
       "      <th>acousticness</th>\n",
       "      <th>danceability</th>\n",
       "      <th>valence</th>\n",
       "      <th>key</th>\n",
       "      <th>energy</th>\n",
       "      <th>instrumentalness</th>\n",
       "      <th>liveness</th>\n",
       "      <th>loudness</th>\n",
       "      <th>speechiness</th>\n",
       "      <th>mode</th>\n",
       "      <th>tempo</th>\n",
       "    </tr>\n",
       "  </thead>\n",
       "  <tbody>\n",
       "    <tr>\n",
       "      <th>count</th>\n",
       "      <td>204.000000</td>\n",
       "      <td>204.000000</td>\n",
       "      <td>204.000000</td>\n",
       "      <td>204.000000</td>\n",
       "      <td>204.000000</td>\n",
       "      <td>204.000000</td>\n",
       "      <td>204.000000</td>\n",
       "      <td>204.000000</td>\n",
       "      <td>204.000000</td>\n",
       "      <td>204.000000</td>\n",
       "      <td>204.000000</td>\n",
       "    </tr>\n",
       "    <tr>\n",
       "      <th>mean</th>\n",
       "      <td>0.397338</td>\n",
       "      <td>0.679824</td>\n",
       "      <td>0.535355</td>\n",
       "      <td>5.362745</td>\n",
       "      <td>0.486715</td>\n",
       "      <td>0.619866</td>\n",
       "      <td>0.162888</td>\n",
       "      <td>-10.162534</td>\n",
       "      <td>0.117995</td>\n",
       "      <td>0.529412</td>\n",
       "      <td>116.384020</td>\n",
       "    </tr>\n",
       "    <tr>\n",
       "      <th>std</th>\n",
       "      <td>0.329015</td>\n",
       "      <td>0.120787</td>\n",
       "      <td>0.228999</td>\n",
       "      <td>3.551976</td>\n",
       "      <td>0.216834</td>\n",
       "      <td>0.341169</td>\n",
       "      <td>0.114808</td>\n",
       "      <td>3.606242</td>\n",
       "      <td>0.106193</td>\n",
       "      <td>0.500362</td>\n",
       "      <td>34.629592</td>\n",
       "    </tr>\n",
       "    <tr>\n",
       "      <th>min</th>\n",
       "      <td>0.000157</td>\n",
       "      <td>0.180000</td>\n",
       "      <td>0.038300</td>\n",
       "      <td>0.000000</td>\n",
       "      <td>0.032400</td>\n",
       "      <td>0.000000</td>\n",
       "      <td>0.049700</td>\n",
       "      <td>-21.776000</td>\n",
       "      <td>0.027800</td>\n",
       "      <td>0.000000</td>\n",
       "      <td>68.997000</td>\n",
       "    </tr>\n",
       "    <tr>\n",
       "      <th>25%</th>\n",
       "      <td>0.082100</td>\n",
       "      <td>0.623750</td>\n",
       "      <td>0.358750</td>\n",
       "      <td>2.000000</td>\n",
       "      <td>0.338000</td>\n",
       "      <td>0.352750</td>\n",
       "      <td>0.101000</td>\n",
       "      <td>-12.047250</td>\n",
       "      <td>0.048850</td>\n",
       "      <td>0.000000</td>\n",
       "      <td>86.199500</td>\n",
       "    </tr>\n",
       "    <tr>\n",
       "      <th>50%</th>\n",
       "      <td>0.314500</td>\n",
       "      <td>0.689500</td>\n",
       "      <td>0.545000</td>\n",
       "      <td>6.000000</td>\n",
       "      <td>0.461000</td>\n",
       "      <td>0.773500</td>\n",
       "      <td>0.116000</td>\n",
       "      <td>-9.672000</td>\n",
       "      <td>0.072750</td>\n",
       "      <td>1.000000</td>\n",
       "      <td>104.524000</td>\n",
       "    </tr>\n",
       "    <tr>\n",
       "      <th>75%</th>\n",
       "      <td>0.696000</td>\n",
       "      <td>0.755250</td>\n",
       "      <td>0.705000</td>\n",
       "      <td>8.000000</td>\n",
       "      <td>0.648250</td>\n",
       "      <td>0.891000</td>\n",
       "      <td>0.162750</td>\n",
       "      <td>-7.383500</td>\n",
       "      <td>0.147500</td>\n",
       "      <td>1.000000</td>\n",
       "      <td>146.038500</td>\n",
       "    </tr>\n",
       "    <tr>\n",
       "      <th>max</th>\n",
       "      <td>0.994000</td>\n",
       "      <td>0.964000</td>\n",
       "      <td>0.969000</td>\n",
       "      <td>11.000000</td>\n",
       "      <td>0.973000</td>\n",
       "      <td>0.981000</td>\n",
       "      <td>0.706000</td>\n",
       "      <td>-3.227000</td>\n",
       "      <td>0.556000</td>\n",
       "      <td>1.000000</td>\n",
       "      <td>192.110000</td>\n",
       "    </tr>\n",
       "  </tbody>\n",
       "</table>\n",
       "</div>"
      ],
      "text/plain": [
       "       acousticness  danceability     valence         key      energy  \\\n",
       "count    204.000000    204.000000  204.000000  204.000000  204.000000   \n",
       "mean       0.397338      0.679824    0.535355    5.362745    0.486715   \n",
       "std        0.329015      0.120787    0.228999    3.551976    0.216834   \n",
       "min        0.000157      0.180000    0.038300    0.000000    0.032400   \n",
       "25%        0.082100      0.623750    0.358750    2.000000    0.338000   \n",
       "50%        0.314500      0.689500    0.545000    6.000000    0.461000   \n",
       "75%        0.696000      0.755250    0.705000    8.000000    0.648250   \n",
       "max        0.994000      0.964000    0.969000   11.000000    0.973000   \n",
       "\n",
       "       instrumentalness    liveness    loudness  speechiness        mode  \\\n",
       "count        204.000000  204.000000  204.000000   204.000000  204.000000   \n",
       "mean           0.619866    0.162888  -10.162534     0.117995    0.529412   \n",
       "std            0.341169    0.114808    3.606242     0.106193    0.500362   \n",
       "min            0.000000    0.049700  -21.776000     0.027800    0.000000   \n",
       "25%            0.352750    0.101000  -12.047250     0.048850    0.000000   \n",
       "50%            0.773500    0.116000   -9.672000     0.072750    1.000000   \n",
       "75%            0.891000    0.162750   -7.383500     0.147500    1.000000   \n",
       "max            0.981000    0.706000   -3.227000     0.556000    1.000000   \n",
       "\n",
       "            tempo  \n",
       "count  204.000000  \n",
       "mean   116.384020  \n",
       "std     34.629592  \n",
       "min     68.997000  \n",
       "25%     86.199500  \n",
       "50%    104.524000  \n",
       "75%    146.038500  \n",
       "max    192.110000  "
      ]
     },
     "execution_count": 9,
     "metadata": {},
     "output_type": "execute_result"
    }
   ],
   "source": [
    "my_playlist[['acousticness', 'danceability', 'valence', 'key', 'energy',\n",
    "       'instrumentalness', 'liveness', 'loudness', 'speechiness', 'mode', 'tempo']].describe()"
   ]
  },
  {
   "cell_type": "markdown",
   "id": "3d4c30bb",
   "metadata": {},
   "source": [
    "#### Interpretation\n",
    "We can use the above information to capture common datapoints throughout the values found from my playlist.\n",
    "\n",
    "For example, most songs in my playlist have an energy level between 0.34 to 0.65, with exceptions below and above\n",
    "<br> \n",
    "Furthermore, most songs in my playlist are not very speechy, between 0.05 & 0.15, with exceptions below and above"
   ]
  },
  {
   "cell_type": "code",
   "execution_count": 10,
   "id": "911a868d",
   "metadata": {
    "scrolled": false
   },
   "outputs": [
    {
     "data": {
      "image/png": "[encoded data removed]",
      "text/plain": [
       "<Figure size 1440x720 with 14 Axes>"
      ]
     },
     "metadata": {
      "needs_background": "light"
     },
     "output_type": "display_data"
    },
    {
     "data": {
      "image/png": "[encoded data removed]",
      "text/plain": [
       "<Figure size 1440x720 with 14 Axes>"
      ]
     },
     "metadata": {
      "needs_background": "light"
     },
     "output_type": "display_data"
    }
   ],
   "source": [
    "# Comparison of the distributions between my playlist, and all songs combined\n",
    "\n",
    "vizualize_data(my_playlist) # First 2 rows\n",
    "vizualize_data(recommended_songs) # Second 2 rows"
   ]
  },
  {
   "cell_type": "markdown",
   "id": "614239eb",
   "metadata": {},
   "source": [
    "#### Interpretation:\n",
    "* Upon direct comparison of each feature in both datasets, we can see that they appear similar with their distributions, albeit with slight variations.\n",
    "* There is a higher distribution with songs of lower valence in the recommended songs dataset compared to my playlist. This suggests that I tend to like happier-sounding songs.\n",
    "* Popularity in my playlist also seems to be more varied, whereas a noticeable selection of songs in the second dataset are popular. In contrast, songs on my playlist don't necessarily cater to popular music."
   ]
  },
  {
   "cell_type": "markdown",
   "id": "29818cff",
   "metadata": {},
   "source": [
    "### Combining the data \n",
    "Here, I am creating the identifier for all songs for the total data collected\n",
    "\n",
    "Songs in my playlist will be marked 1, and others will be marked 0"
   ]
  },
  {
   "cell_type": "code",
   "execution_count": 11,
   "id": "b782cd19",
   "metadata": {},
   "outputs": [
    {
     "data": {
      "text/html": [
       "<div>\n",
       "<style scoped>\n",
       "    .dataframe tbody tr th:only-of-type {\n",
       "        vertical-align: middle;\n",
       "    }\n",
       "\n",
       "    .dataframe tbody tr th {\n",
       "        vertical-align: top;\n",
       "    }\n",
       "\n",
       "    .dataframe thead th {\n",
       "        text-align: right;\n",
       "    }\n",
       "</style>\n",
       "<table border=\"1\" class=\"dataframe\">\n",
       "  <thead>\n",
       "    <tr style=\"text-align: right;\">\n",
       "      <th></th>\n",
       "      <th>name</th>\n",
       "      <th>album</th>\n",
       "      <th>artist</th>\n",
       "      <th>release_date</th>\n",
       "      <th>length</th>\n",
       "      <th>popularity</th>\n",
       "      <th>acousticness</th>\n",
       "      <th>danceability</th>\n",
       "      <th>valence</th>\n",
       "      <th>key</th>\n",
       "      <th>energy</th>\n",
       "      <th>instrumentalness</th>\n",
       "      <th>liveness</th>\n",
       "      <th>loudness</th>\n",
       "      <th>speechiness</th>\n",
       "      <th>mode</th>\n",
       "      <th>tempo</th>\n",
       "      <th>time_signature</th>\n",
       "      <th>target</th>\n",
       "    </tr>\n",
       "  </thead>\n",
       "  <tbody>\n",
       "    <tr>\n",
       "      <th>0</th>\n",
       "      <td>Getting There</td>\n",
       "      <td>Until The Quiet Comes</td>\n",
       "      <td>Flying Lotus</td>\n",
       "      <td>2012-10-01</td>\n",
       "      <td>109353</td>\n",
       "      <td>39</td>\n",
       "      <td>0.1490</td>\n",
       "      <td>0.180</td>\n",
       "      <td>0.100</td>\n",
       "      <td>1</td>\n",
       "      <td>0.719</td>\n",
       "      <td>0.000370</td>\n",
       "      <td>0.1310</td>\n",
       "      <td>-5.789</td>\n",
       "      <td>0.0993</td>\n",
       "      <td>1</td>\n",
       "      <td>163.801</td>\n",
       "      <td>4</td>\n",
       "      <td>1</td>\n",
       "    </tr>\n",
       "    <tr>\n",
       "      <th>1</th>\n",
       "      <td>Massage Situation</td>\n",
       "      <td>Reset EP</td>\n",
       "      <td>Flying Lotus</td>\n",
       "      <td>2007-10-01</td>\n",
       "      <td>167173</td>\n",
       "      <td>45</td>\n",
       "      <td>0.0108</td>\n",
       "      <td>0.603</td>\n",
       "      <td>0.403</td>\n",
       "      <td>3</td>\n",
       "      <td>0.606</td>\n",
       "      <td>0.001570</td>\n",
       "      <td>0.1080</td>\n",
       "      <td>-5.060</td>\n",
       "      <td>0.0688</td>\n",
       "      <td>0</td>\n",
       "      <td>93.060</td>\n",
       "      <td>4</td>\n",
       "      <td>1</td>\n",
       "    </tr>\n",
       "    <tr>\n",
       "      <th>2</th>\n",
       "      <td>Do The Astral Plane</td>\n",
       "      <td>Cosmogramma</td>\n",
       "      <td>Flying Lotus</td>\n",
       "      <td>2010-05-03</td>\n",
       "      <td>237920</td>\n",
       "      <td>44</td>\n",
       "      <td>0.0505</td>\n",
       "      <td>0.722</td>\n",
       "      <td>0.275</td>\n",
       "      <td>8</td>\n",
       "      <td>0.828</td>\n",
       "      <td>0.000000</td>\n",
       "      <td>0.1140</td>\n",
       "      <td>-3.227</td>\n",
       "      <td>0.1900</td>\n",
       "      <td>0</td>\n",
       "      <td>117.693</td>\n",
       "      <td>4</td>\n",
       "      <td>1</td>\n",
       "    </tr>\n",
       "    <tr>\n",
       "      <th>3</th>\n",
       "      <td>Camel</td>\n",
       "      <td>Los Angeles</td>\n",
       "      <td>Flying Lotus</td>\n",
       "      <td>2008-07-09</td>\n",
       "      <td>142893</td>\n",
       "      <td>34</td>\n",
       "      <td>0.0132</td>\n",
       "      <td>0.699</td>\n",
       "      <td>0.584</td>\n",
       "      <td>0</td>\n",
       "      <td>0.926</td>\n",
       "      <td>0.200000</td>\n",
       "      <td>0.3110</td>\n",
       "      <td>-6.142</td>\n",
       "      <td>0.2850</td>\n",
       "      <td>1</td>\n",
       "      <td>84.863</td>\n",
       "      <td>4</td>\n",
       "      <td>1</td>\n",
       "    </tr>\n",
       "    <tr>\n",
       "      <th>4</th>\n",
       "      <td>Putty Boy Strut</td>\n",
       "      <td>Until The Quiet Comes</td>\n",
       "      <td>Flying Lotus</td>\n",
       "      <td>2012-10-01</td>\n",
       "      <td>173687</td>\n",
       "      <td>32</td>\n",
       "      <td>0.1030</td>\n",
       "      <td>0.723</td>\n",
       "      <td>0.711</td>\n",
       "      <td>1</td>\n",
       "      <td>0.432</td>\n",
       "      <td>0.218000</td>\n",
       "      <td>0.0883</td>\n",
       "      <td>-7.891</td>\n",
       "      <td>0.4180</td>\n",
       "      <td>1</td>\n",
       "      <td>163.973</td>\n",
       "      <td>4</td>\n",
       "      <td>1</td>\n",
       "    </tr>\n",
       "    <tr>\n",
       "      <th>...</th>\n",
       "      <td>...</td>\n",
       "      <td>...</td>\n",
       "      <td>...</td>\n",
       "      <td>...</td>\n",
       "      <td>...</td>\n",
       "      <td>...</td>\n",
       "      <td>...</td>\n",
       "      <td>...</td>\n",
       "      <td>...</td>\n",
       "      <td>...</td>\n",
       "      <td>...</td>\n",
       "      <td>...</td>\n",
       "      <td>...</td>\n",
       "      <td>...</td>\n",
       "      <td>...</td>\n",
       "      <td>...</td>\n",
       "      <td>...</td>\n",
       "      <td>...</td>\n",
       "      <td>...</td>\n",
       "    </tr>\n",
       "    <tr>\n",
       "      <th>4309</th>\n",
       "      <td>Pomegranate</td>\n",
       "      <td>Lyrics to GO, Vol. 2</td>\n",
       "      <td>Kota the Friend</td>\n",
       "      <td>2021-01-18</td>\n",
       "      <td>109638</td>\n",
       "      <td>58</td>\n",
       "      <td>0.1360</td>\n",
       "      <td>0.637</td>\n",
       "      <td>0.373</td>\n",
       "      <td>2</td>\n",
       "      <td>0.489</td>\n",
       "      <td>0.000000</td>\n",
       "      <td>0.0954</td>\n",
       "      <td>-9.157</td>\n",
       "      <td>0.4440</td>\n",
       "      <td>1</td>\n",
       "      <td>79.175</td>\n",
       "      <td>4</td>\n",
       "      <td>0</td>\n",
       "    </tr>\n",
       "    <tr>\n",
       "      <th>4310</th>\n",
       "      <td>Raindrops (feat. Flo Milli)</td>\n",
       "      <td>Raindrops (feat. Flo Milli)</td>\n",
       "      <td>GoldLink</td>\n",
       "      <td>2021-06-16</td>\n",
       "      <td>155573</td>\n",
       "      <td>44</td>\n",
       "      <td>0.5060</td>\n",
       "      <td>0.868</td>\n",
       "      <td>0.559</td>\n",
       "      <td>9</td>\n",
       "      <td>0.563</td>\n",
       "      <td>0.000025</td>\n",
       "      <td>0.1500</td>\n",
       "      <td>-7.448</td>\n",
       "      <td>0.1720</td>\n",
       "      <td>0</td>\n",
       "      <td>139.971</td>\n",
       "      <td>4</td>\n",
       "      <td>0</td>\n",
       "    </tr>\n",
       "    <tr>\n",
       "      <th>4311</th>\n",
       "      <td>Why You in LA</td>\n",
       "      <td>Why You in LA</td>\n",
       "      <td>Keys Open Doors</td>\n",
       "      <td>2020-03-15</td>\n",
       "      <td>188839</td>\n",
       "      <td>44</td>\n",
       "      <td>0.0973</td>\n",
       "      <td>0.939</td>\n",
       "      <td>0.425</td>\n",
       "      <td>11</td>\n",
       "      <td>0.322</td>\n",
       "      <td>0.000092</td>\n",
       "      <td>0.0883</td>\n",
       "      <td>-9.463</td>\n",
       "      <td>0.3040</td>\n",
       "      <td>1</td>\n",
       "      <td>114.317</td>\n",
       "      <td>4</td>\n",
       "      <td>0</td>\n",
       "    </tr>\n",
       "    <tr>\n",
       "      <th>4312</th>\n",
       "      <td>Kimbo Slice</td>\n",
       "      <td>Kimbo Slice</td>\n",
       "      <td>Rexx Life Raj</td>\n",
       "      <td>2021-07-16</td>\n",
       "      <td>193109</td>\n",
       "      <td>55</td>\n",
       "      <td>0.1810</td>\n",
       "      <td>0.806</td>\n",
       "      <td>0.513</td>\n",
       "      <td>11</td>\n",
       "      <td>0.713</td>\n",
       "      <td>0.000000</td>\n",
       "      <td>0.0601</td>\n",
       "      <td>-6.792</td>\n",
       "      <td>0.1570</td>\n",
       "      <td>1</td>\n",
       "      <td>121.941</td>\n",
       "      <td>4</td>\n",
       "      <td>0</td>\n",
       "    </tr>\n",
       "    <tr>\n",
       "      <th>4313</th>\n",
       "      <td>While You on Road</td>\n",
       "      <td>While You on Road</td>\n",
       "      <td>Planet Giza</td>\n",
       "      <td>2022-02-25</td>\n",
       "      <td>182535</td>\n",
       "      <td>45</td>\n",
       "      <td>0.2570</td>\n",
       "      <td>0.801</td>\n",
       "      <td>0.721</td>\n",
       "      <td>0</td>\n",
       "      <td>0.533</td>\n",
       "      <td>0.000000</td>\n",
       "      <td>0.2840</td>\n",
       "      <td>-9.291</td>\n",
       "      <td>0.1370</td>\n",
       "      <td>1</td>\n",
       "      <td>141.926</td>\n",
       "      <td>4</td>\n",
       "      <td>0</td>\n",
       "    </tr>\n",
       "  </tbody>\n",
       "</table>\n",
       "<p>4518 rows × 19 columns</p>\n",
       "</div>"
      ],
      "text/plain": [
       "                             name                        album  \\\n",
       "0                   Getting There        Until The Quiet Comes   \n",
       "1               Massage Situation                     Reset EP   \n",
       "2             Do The Astral Plane                  Cosmogramma   \n",
       "3                           Camel                  Los Angeles   \n",
       "4                 Putty Boy Strut        Until The Quiet Comes   \n",
       "...                           ...                          ...   \n",
       "4309                  Pomegranate         Lyrics to GO, Vol. 2   \n",
       "4310  Raindrops (feat. Flo Milli)  Raindrops (feat. Flo Milli)   \n",
       "4311                Why You in LA                Why You in LA   \n",
       "4312                  Kimbo Slice                  Kimbo Slice   \n",
       "4313            While You on Road            While You on Road   \n",
       "\n",
       "               artist release_date  length  popularity  acousticness  \\\n",
       "0        Flying Lotus   2012-10-01  109353          39        0.1490   \n",
       "1        Flying Lotus   2007-10-01  167173          45        0.0108   \n",
       "2        Flying Lotus   2010-05-03  237920          44        0.0505   \n",
       "3        Flying Lotus   2008-07-09  142893          34        0.0132   \n",
       "4        Flying Lotus   2012-10-01  173687          32        0.1030   \n",
       "...               ...          ...     ...         ...           ...   \n",
       "4309  Kota the Friend   2021-01-18  109638          58        0.1360   \n",
       "4310         GoldLink   2021-06-16  155573          44        0.5060   \n",
       "4311  Keys Open Doors   2020-03-15  188839          44        0.0973   \n",
       "4312    Rexx Life Raj   2021-07-16  193109          55        0.1810   \n",
       "4313      Planet Giza   2022-02-25  182535          45        0.2570   \n",
       "\n",
       "      danceability  valence  key  energy  instrumentalness  liveness  \\\n",
       "0            0.180    0.100    1   0.719          0.000370    0.1310   \n",
       "1            0.603    0.403    3   0.606          0.001570    0.1080   \n",
       "2            0.722    0.275    8   0.828          0.000000    0.1140   \n",
       "3            0.699    0.584    0   0.926          0.200000    0.3110   \n",
       "4            0.723    0.711    1   0.432          0.218000    0.0883   \n",
       "...            ...      ...  ...     ...               ...       ...   \n",
       "4309         0.637    0.373    2   0.489          0.000000    0.0954   \n",
       "4310         0.868    0.559    9   0.563          0.000025    0.1500   \n",
       "4311         0.939    0.425   11   0.322          0.000092    0.0883   \n",
       "4312         0.806    0.513   11   0.713          0.000000    0.0601   \n",
       "4313         0.801    0.721    0   0.533          0.000000    0.2840   \n",
       "\n",
       "      loudness  speechiness  mode    tempo  time_signature  target  \n",
       "0       -5.789       0.0993     1  163.801               4       1  \n",
       "1       -5.060       0.0688     0   93.060               4       1  \n",
       "2       -3.227       0.1900     0  117.693               4       1  \n",
       "3       -6.142       0.2850     1   84.863               4       1  \n",
       "4       -7.891       0.4180     1  163.973               4       1  \n",
       "...        ...          ...   ...      ...             ...     ...  \n",
       "4309    -9.157       0.4440     1   79.175               4       0  \n",
       "4310    -7.448       0.1720     0  139.971               4       0  \n",
       "4311    -9.463       0.3040     1  114.317               4       0  \n",
       "4312    -6.792       0.1570     1  121.941               4       0  \n",
       "4313    -9.291       0.1370     1  141.926               4       0  \n",
       "\n",
       "[4518 rows x 19 columns]"
      ]
     },
     "execution_count": 11,
     "metadata": {},
     "output_type": "execute_result"
    }
   ],
   "source": [
    "my_playlist['target'] = '' # Creating an empty column\n",
    "my_playlist['target'].replace('', 1, inplace=True) # Filling the new column with a number value\n",
    "\n",
    "recommended_songs['target'] = ''\n",
    "recommended_songs['target'].replace('', 0, inplace=True)\n",
    "\n",
    "df_ = [my_playlist, recommended_songs] # All captured playlist songs, with their target association\n",
    "\n",
    "df = pd.concat(df_)\n",
    "df"
   ]
  },
  {
   "cell_type": "code",
   "execution_count": 12,
   "id": "f637df0c",
   "metadata": {},
   "outputs": [
    {
     "data": {
      "text/plain": [
       "Index(['name', 'album', 'artist', 'release_date', 'length', 'popularity',\n",
       "       'acousticness', 'danceability', 'valence', 'key', 'energy',\n",
       "       'instrumentalness', 'liveness', 'loudness', 'speechiness', 'mode',\n",
       "       'tempo', 'time_signature', 'target'],\n",
       "      dtype='object')"
      ]
     },
     "execution_count": 12,
     "metadata": {},
     "output_type": "execute_result"
    }
   ],
   "source": [
    "df.columns"
   ]
  },
  {
   "cell_type": "code",
   "execution_count": 13,
   "id": "70944a21",
   "metadata": {
    "scrolled": true
   },
   "outputs": [
    {
     "data": {
      "text/plain": [
       "(4518, 19)"
      ]
     },
     "execution_count": 13,
     "metadata": {},
     "output_type": "execute_result"
    }
   ],
   "source": [
    "df.shape"
   ]
  },
  {
   "cell_type": "code",
   "execution_count": 14,
   "id": "1140e371",
   "metadata": {},
   "outputs": [
    {
     "data": {
      "text/plain": [
       "(3969, 19)"
      ]
     },
     "execution_count": 14,
     "metadata": {},
     "output_type": "execute_result"
    }
   ],
   "source": [
    "df.drop_duplicates(subset=['name', 'album', 'artist', 'release_date', 'length', 'popularity',\n",
    "       'acousticness', 'danceability', 'valence', 'key', 'energy',\n",
    "       'instrumentalness', 'liveness', 'loudness', 'speechiness', 'mode',\n",
    "       'tempo', 'time_signature'], keep='first', inplace=True)\n",
    "df.shape"
   ]
  },
  {
   "cell_type": "markdown",
   "id": "49b4fa0d",
   "metadata": {},
   "source": [
    "# Modeling\n",
    "#### Feature Selection"
   ]
  },
  {
   "cell_type": "code",
   "execution_count": 15,
   "id": "afd45c6d",
   "metadata": {},
   "outputs": [],
   "source": [
    "feature_names = ['length', 'popularity', 'acousticness', 'danceability', \n",
    "                 'valence', 'key', 'energy', 'instrumentalness', 'liveness', \n",
    "                 'loudness', 'speechiness', 'mode','tempo', 'time_signature']\n",
    "\n",
    "X, y = df[feature_names], df['target']"
   ]
  },
  {
   "cell_type": "code",
   "execution_count": 16,
   "id": "b3d13237",
   "metadata": {},
   "outputs": [],
   "source": [
    "X_train, X_test, y_train, y_test = train_test_split(\n",
    "                                X, y, test_size = 0.15, \n",
    "                                random_state = 42)"
   ]
  },
  {
   "cell_type": "code",
   "execution_count": 17,
   "id": "b0af6688",
   "metadata": {},
   "outputs": [],
   "source": [
    "# Instantiate StandardScaler\n",
    "scaler = StandardScaler()\n",
    "\n",
    "# Transform the training and test sets\n",
    "X_train_sc = scaler.fit_transform(X_train)\n",
    "X_test_sc = scaler.transform(X_test)"
   ]
  },
  {
   "cell_type": "markdown",
   "id": "0b9ae65c",
   "metadata": {},
   "source": [
    "#### Addressing Class Weights"
   ]
  },
  {
   "cell_type": "code",
   "execution_count": 18,
   "id": "7244e780",
   "metadata": {},
   "outputs": [
    {
     "data": {
      "text/plain": [
       "3373"
      ]
     },
     "execution_count": 18,
     "metadata": {},
     "output_type": "execute_result"
    }
   ],
   "source": [
    "# Discovering the total number of entries in are target training data\n",
    "len(y_train)"
   ]
  },
  {
   "cell_type": "code",
   "execution_count": 19,
   "id": "8e625895",
   "metadata": {},
   "outputs": [
    {
     "name": "stdout",
     "output_type": "stream",
     "text": [
      "3213\n",
      "160\n"
     ]
    }
   ],
   "source": [
    "# Captures the ammount of occurences of each class in the training set\n",
    "\n",
    "count = np.bincount(y_train)\n",
    "print(count[0]) # Majority class\n",
    "print(count[1]) # Minority class"
   ]
  },
  {
   "cell_type": "code",
   "execution_count": 20,
   "id": "d99090fe",
   "metadata": {},
   "outputs": [
    {
     "name": "stdout",
     "output_type": "stream",
     "text": [
      "0.04743551734361103\n",
      "0.9525644826563889\n"
     ]
    }
   ],
   "source": [
    "w0 = count[1]/len(y_train) # Assigning minority percentage\n",
    "w1 = count[0]/len(y_train) # Assigning majority percentage\n",
    "\n",
    "print(w0) # Adjusted weight for the minority class\n",
    "print(w1) # Adjusted weight for the majority class"
   ]
  },
  {
   "cell_type": "markdown",
   "id": "a9e40812",
   "metadata": {},
   "source": [
    "### Defining functions fo rmodel evaluation"
   ]
  },
  {
   "cell_type": "code",
   "execution_count": 21,
   "id": "f563371a",
   "metadata": {},
   "outputs": [],
   "source": [
    "metrics_df = []\n",
    "def get_classification_report(y_test, y_pred):\n",
    "    # This function returns a clean classification report in a pandas dataframe format\n",
    "    from sklearn import metrics\n",
    "    report = classification_report(y_test, y_pred, output_dict=True)\n",
    "    df_classification_report = pd.DataFrame(report).transpose()\n",
    "    \n",
    "    ##### reindex or change the order of rows\n",
    "    df_classification_report.reindex(['0', '1', 'accuracy', 'weighted avg', 'macro avg'])\n",
    "    \n",
    "    #### Returning Capitalized column names\n",
    "    df_classification_report.columns = df_classification_report.columns.str.capitalize()\n",
    "\n",
    "    # Creates a 3-D dataframe\n",
    "    metrics_df.append(df_classification_report.iloc[1:2, :])\n",
    "    return df_classification_report\n",
    "\n",
    "\n",
    "def model_results(model, X_test, y_test):\n",
    "    # This function returns various metrics for our models that we run\n",
    "\n",
    "    preds = model.predict(X_test)\n",
    "    \n",
    "    # A visual representation of a confusion Matrix\n",
    "    plot_confusion_matrix(model, X_test, y_test);    \n",
    "    plt.grid(False)\n",
    "    \n",
    "    # Prints the MAE & RMSE of a model\n",
    "    print('Mean Absolute Error:', mean_absolute_error(y_test, preds)) \n",
    "    print('Root Mean Squared Error:', np.sqrt(mean_squared_error(y_test, preds)))"
   ]
  },
  {
   "cell_type": "markdown",
   "id": "7918c79e",
   "metadata": {},
   "source": [
    "## Logistic Regression"
   ]
  },
  {
   "cell_type": "code",
   "execution_count": 22,
   "id": "47cbcead",
   "metadata": {
    "scrolled": false
   },
   "outputs": [
    {
     "name": "stdout",
     "output_type": "stream",
     "text": [
      "Mean Absolute Error: 0.2634228187919463\n",
      "Root Mean Squared Error: 0.5132473271162221\n"
     ]
    },
    {
     "data": {
      "text/html": [
       "<div>\n",
       "<style scoped>\n",
       "    .dataframe tbody tr th:only-of-type {\n",
       "        vertical-align: middle;\n",
       "    }\n",
       "\n",
       "    .dataframe tbody tr th {\n",
       "        vertical-align: top;\n",
       "    }\n",
       "\n",
       "    .dataframe thead th {\n",
       "        text-align: right;\n",
       "    }\n",
       "</style>\n",
       "<table border=\"1\" class=\"dataframe\">\n",
       "  <thead>\n",
       "    <tr style=\"text-align: right;\">\n",
       "      <th></th>\n",
       "      <th>Precision</th>\n",
       "      <th>Recall</th>\n",
       "      <th>F1-score</th>\n",
       "      <th>Support</th>\n",
       "    </tr>\n",
       "  </thead>\n",
       "  <tbody>\n",
       "    <tr>\n",
       "      <th>0</th>\n",
       "      <td>0.962529</td>\n",
       "      <td>0.744565</td>\n",
       "      <td>0.839632</td>\n",
       "      <td>552.000000</td>\n",
       "    </tr>\n",
       "    <tr>\n",
       "      <th>1</th>\n",
       "      <td>0.165680</td>\n",
       "      <td>0.636364</td>\n",
       "      <td>0.262911</td>\n",
       "      <td>44.000000</td>\n",
       "    </tr>\n",
       "    <tr>\n",
       "      <th>accuracy</th>\n",
       "      <td>0.736577</td>\n",
       "      <td>0.736577</td>\n",
       "      <td>0.736577</td>\n",
       "      <td>0.736577</td>\n",
       "    </tr>\n",
       "    <tr>\n",
       "      <th>macro avg</th>\n",
       "      <td>0.564105</td>\n",
       "      <td>0.690464</td>\n",
       "      <td>0.551272</td>\n",
       "      <td>596.000000</td>\n",
       "    </tr>\n",
       "    <tr>\n",
       "      <th>weighted avg</th>\n",
       "      <td>0.903702</td>\n",
       "      <td>0.736577</td>\n",
       "      <td>0.797056</td>\n",
       "      <td>596.000000</td>\n",
       "    </tr>\n",
       "  </tbody>\n",
       "</table>\n",
       "</div>"
      ],
      "text/plain": [
       "              Precision    Recall  F1-score     Support\n",
       "0              0.962529  0.744565  0.839632  552.000000\n",
       "1              0.165680  0.636364  0.262911   44.000000\n",
       "accuracy       0.736577  0.736577  0.736577    0.736577\n",
       "macro avg      0.564105  0.690464  0.551272  596.000000\n",
       "weighted avg   0.903702  0.736577  0.797056  596.000000"
      ]
     },
     "execution_count": 22,
     "metadata": {},
     "output_type": "execute_result"
    },
    {
     "data": {
      "image/png": "[encoded data removed]",
      "text/plain": [
       "<Figure size 432x288 with 2 Axes>"
      ]
     },
     "metadata": {
      "needs_background": "light"
     },
     "output_type": "display_data"
    }
   ],
   "source": [
    "lr = LogisticRegression(class_weight={0: w0, 1: w1})\n",
    "lr.fit(X_train_sc, y_train);\n",
    "\n",
    "# Displays results of the model\n",
    "model_results(lr, X_test_sc, y_test)\n",
    "\n",
    "# Returns Classification Report\n",
    "get_classification_report(y_test, lr.predict(X_test_sc))"
   ]
  },
  {
   "cell_type": "markdown",
   "id": "2075021a",
   "metadata": {},
   "source": [
    "## SVC"
   ]
  },
  {
   "cell_type": "code",
   "execution_count": 23,
   "id": "507b46c4",
   "metadata": {},
   "outputs": [
    {
     "name": "stdout",
     "output_type": "stream",
     "text": [
      "Mean Absolute Error: 0.2063758389261745\n",
      "Root Mean Squared Error: 0.4542860760866158\n"
     ]
    },
    {
     "data": {
      "text/html": [
       "<div>\n",
       "<style scoped>\n",
       "    .dataframe tbody tr th:only-of-type {\n",
       "        vertical-align: middle;\n",
       "    }\n",
       "\n",
       "    .dataframe tbody tr th {\n",
       "        vertical-align: top;\n",
       "    }\n",
       "\n",
       "    .dataframe thead th {\n",
       "        text-align: right;\n",
       "    }\n",
       "</style>\n",
       "<table border=\"1\" class=\"dataframe\">\n",
       "  <thead>\n",
       "    <tr style=\"text-align: right;\">\n",
       "      <th></th>\n",
       "      <th>Precision</th>\n",
       "      <th>Recall</th>\n",
       "      <th>F1-score</th>\n",
       "      <th>Support</th>\n",
       "    </tr>\n",
       "  </thead>\n",
       "  <tbody>\n",
       "    <tr>\n",
       "      <th>0</th>\n",
       "      <td>0.961290</td>\n",
       "      <td>0.809783</td>\n",
       "      <td>0.879056</td>\n",
       "      <td>552.000000</td>\n",
       "    </tr>\n",
       "    <tr>\n",
       "      <th>1</th>\n",
       "      <td>0.198473</td>\n",
       "      <td>0.590909</td>\n",
       "      <td>0.297143</td>\n",
       "      <td>44.000000</td>\n",
       "    </tr>\n",
       "    <tr>\n",
       "      <th>accuracy</th>\n",
       "      <td>0.793624</td>\n",
       "      <td>0.793624</td>\n",
       "      <td>0.793624</td>\n",
       "      <td>0.793624</td>\n",
       "    </tr>\n",
       "    <tr>\n",
       "      <th>macro avg</th>\n",
       "      <td>0.579882</td>\n",
       "      <td>0.700346</td>\n",
       "      <td>0.588099</td>\n",
       "      <td>596.000000</td>\n",
       "    </tr>\n",
       "    <tr>\n",
       "      <th>weighted avg</th>\n",
       "      <td>0.904975</td>\n",
       "      <td>0.793624</td>\n",
       "      <td>0.836096</td>\n",
       "      <td>596.000000</td>\n",
       "    </tr>\n",
       "  </tbody>\n",
       "</table>\n",
       "</div>"
      ],
      "text/plain": [
       "              Precision    Recall  F1-score     Support\n",
       "0              0.961290  0.809783  0.879056  552.000000\n",
       "1              0.198473  0.590909  0.297143   44.000000\n",
       "accuracy       0.793624  0.793624  0.793624    0.793624\n",
       "macro avg      0.579882  0.700346  0.588099  596.000000\n",
       "weighted avg   0.904975  0.793624  0.836096  596.000000"
      ]
     },
     "execution_count": 23,
     "metadata": {},
     "output_type": "execute_result"
    },
    {
     "data": {
      "image/png": "[encoded data removed]",
      "text/plain": [
       "<Figure size 432x288 with 2 Axes>"
      ]
     },
     "metadata": {
      "needs_background": "light"
     },
     "output_type": "display_data"
    }
   ],
   "source": [
    "svm = SVC(class_weight={0: w0, 1: w1})\n",
    "svm.fit(X_train_sc, y_train);\n",
    "\n",
    "# Displays results of the model\n",
    "model_results(svm, X_test_sc, y_test)\n",
    "\n",
    "# Returns Classification Report\n",
    "get_classification_report(y_test, svm.predict(X_test_sc))"
   ]
  },
  {
   "cell_type": "markdown",
   "id": "a77ce4f4",
   "metadata": {},
   "source": [
    "## Decision Tree Classifier"
   ]
  },
  {
   "cell_type": "code",
   "execution_count": 24,
   "id": "c2b645eb",
   "metadata": {},
   "outputs": [
    {
     "name": "stdout",
     "output_type": "stream",
     "text": [
      "Mean Absolute Error: 0.09731543624161074\n",
      "Root Mean Squared Error: 0.31195422138770734\n"
     ]
    },
    {
     "data": {
      "text/html": [
       "<div>\n",
       "<style scoped>\n",
       "    .dataframe tbody tr th:only-of-type {\n",
       "        vertical-align: middle;\n",
       "    }\n",
       "\n",
       "    .dataframe tbody tr th {\n",
       "        vertical-align: top;\n",
       "    }\n",
       "\n",
       "    .dataframe thead th {\n",
       "        text-align: right;\n",
       "    }\n",
       "</style>\n",
       "<table border=\"1\" class=\"dataframe\">\n",
       "  <thead>\n",
       "    <tr style=\"text-align: right;\">\n",
       "      <th></th>\n",
       "      <th>Precision</th>\n",
       "      <th>Recall</th>\n",
       "      <th>F1-score</th>\n",
       "      <th>Support</th>\n",
       "    </tr>\n",
       "  </thead>\n",
       "  <tbody>\n",
       "    <tr>\n",
       "      <th>0</th>\n",
       "      <td>0.936396</td>\n",
       "      <td>0.960145</td>\n",
       "      <td>0.948122</td>\n",
       "      <td>552.000000</td>\n",
       "    </tr>\n",
       "    <tr>\n",
       "      <th>1</th>\n",
       "      <td>0.266667</td>\n",
       "      <td>0.181818</td>\n",
       "      <td>0.216216</td>\n",
       "      <td>44.000000</td>\n",
       "    </tr>\n",
       "    <tr>\n",
       "      <th>accuracy</th>\n",
       "      <td>0.902685</td>\n",
       "      <td>0.902685</td>\n",
       "      <td>0.902685</td>\n",
       "      <td>0.902685</td>\n",
       "    </tr>\n",
       "    <tr>\n",
       "      <th>macro avg</th>\n",
       "      <td>0.601531</td>\n",
       "      <td>0.570982</td>\n",
       "      <td>0.582169</td>\n",
       "      <td>596.000000</td>\n",
       "    </tr>\n",
       "    <tr>\n",
       "      <th>weighted avg</th>\n",
       "      <td>0.886953</td>\n",
       "      <td>0.902685</td>\n",
       "      <td>0.894088</td>\n",
       "      <td>596.000000</td>\n",
       "    </tr>\n",
       "  </tbody>\n",
       "</table>\n",
       "</div>"
      ],
      "text/plain": [
       "              Precision    Recall  F1-score     Support\n",
       "0              0.936396  0.960145  0.948122  552.000000\n",
       "1              0.266667  0.181818  0.216216   44.000000\n",
       "accuracy       0.902685  0.902685  0.902685    0.902685\n",
       "macro avg      0.601531  0.570982  0.582169  596.000000\n",
       "weighted avg   0.886953  0.902685  0.894088  596.000000"
      ]
     },
     "execution_count": 24,
     "metadata": {},
     "output_type": "execute_result"
    },
    {
     "data": {
      "image/png": "[encoded data removed]",
      "text/plain": [
       "<Figure size 432x288 with 2 Axes>"
      ]
     },
     "metadata": {
      "needs_background": "light"
     },
     "output_type": "display_data"
    }
   ],
   "source": [
    "dtree = tree.DecisionTreeClassifier(class_weight={0: w0, 1: w1})\n",
    "dtree.fit(X_train_sc, y_train);\n",
    "\n",
    "# Displays results of the model\n",
    "model_results(dtree, X_test_sc, y_test)\n",
    "\n",
    "# Returns Classification Report\n",
    "get_classification_report(y_test, dtree.predict(X_test_sc))"
   ]
  },
  {
   "cell_type": "markdown",
   "id": "f0bfc088",
   "metadata": {},
   "source": [
    "## Random Forests"
   ]
  },
  {
   "cell_type": "code",
   "execution_count": 25,
   "id": "c44d105b",
   "metadata": {},
   "outputs": [
    {
     "name": "stdout",
     "output_type": "stream",
     "text": [
      "Mean Absolute Error: 0.11577181208053691\n",
      "Root Mean Squared Error: 0.34025257101238326\n"
     ]
    },
    {
     "data": {
      "text/html": [
       "<div>\n",
       "<style scoped>\n",
       "    .dataframe tbody tr th:only-of-type {\n",
       "        vertical-align: middle;\n",
       "    }\n",
       "\n",
       "    .dataframe tbody tr th {\n",
       "        vertical-align: top;\n",
       "    }\n",
       "\n",
       "    .dataframe thead th {\n",
       "        text-align: right;\n",
       "    }\n",
       "</style>\n",
       "<table border=\"1\" class=\"dataframe\">\n",
       "  <thead>\n",
       "    <tr style=\"text-align: right;\">\n",
       "      <th></th>\n",
       "      <th>Precision</th>\n",
       "      <th>Recall</th>\n",
       "      <th>F1-score</th>\n",
       "      <th>Support</th>\n",
       "    </tr>\n",
       "  </thead>\n",
       "  <tbody>\n",
       "    <tr>\n",
       "      <th>0</th>\n",
       "      <td>0.960000</td>\n",
       "      <td>0.913043</td>\n",
       "      <td>0.935933</td>\n",
       "      <td>552.000000</td>\n",
       "    </tr>\n",
       "    <tr>\n",
       "      <th>1</th>\n",
       "      <td>0.323944</td>\n",
       "      <td>0.522727</td>\n",
       "      <td>0.400000</td>\n",
       "      <td>44.000000</td>\n",
       "    </tr>\n",
       "    <tr>\n",
       "      <th>accuracy</th>\n",
       "      <td>0.884228</td>\n",
       "      <td>0.884228</td>\n",
       "      <td>0.884228</td>\n",
       "      <td>0.884228</td>\n",
       "    </tr>\n",
       "    <tr>\n",
       "      <th>macro avg</th>\n",
       "      <td>0.641972</td>\n",
       "      <td>0.717885</td>\n",
       "      <td>0.667967</td>\n",
       "      <td>596.000000</td>\n",
       "    </tr>\n",
       "    <tr>\n",
       "      <th>weighted avg</th>\n",
       "      <td>0.913043</td>\n",
       "      <td>0.884228</td>\n",
       "      <td>0.896368</td>\n",
       "      <td>596.000000</td>\n",
       "    </tr>\n",
       "  </tbody>\n",
       "</table>\n",
       "</div>"
      ],
      "text/plain": [
       "              Precision    Recall  F1-score     Support\n",
       "0              0.960000  0.913043  0.935933  552.000000\n",
       "1              0.323944  0.522727  0.400000   44.000000\n",
       "accuracy       0.884228  0.884228  0.884228    0.884228\n",
       "macro avg      0.641972  0.717885  0.667967  596.000000\n",
       "weighted avg   0.913043  0.884228  0.896368  596.000000"
      ]
     },
     "execution_count": 25,
     "metadata": {},
     "output_type": "execute_result"
    },
    {
     "data": {
      "image/png": "[encoded data removed]",
      "text/plain": [
       "<Figure size 432x288 with 2 Axes>"
      ]
     },
     "metadata": {
      "needs_background": "light"
     },
     "output_type": "display_data"
    }
   ],
   "source": [
    "forest = RandomForestClassifier(class_weight={0: w0, 1: w1}, n_estimators=100, max_depth= 5)\n",
    "forest.fit(X_train_sc, y_train);\n",
    "\n",
    "# Displays results of the model\n",
    "model_results(forest, X_test_sc, y_test)\n",
    "\n",
    "# Returns Classification Report\n",
    "get_classification_report(y_test, forest.predict(X_test_sc))"
   ]
  },
  {
   "cell_type": "markdown",
   "id": "c9199748",
   "metadata": {},
   "source": [
    "# Directly Comparing Classifiers"
   ]
  },
  {
   "cell_type": "code",
   "execution_count": 26,
   "id": "7853cc3b",
   "metadata": {},
   "outputs": [],
   "source": [
    "# Classifier Performance\n",
    "def classifier_performance(X_train_sc, X_test_sc, y_test):\n",
    "    accuracy_df = []\n",
    "    recall_df = []\n",
    "    precision_df = []\n",
    "    \n",
    "    # Instantiate classifier objects\n",
    "    classifier_list = [lr, svm, dtree, forest]\n",
    "    \n",
    "    # Display accuracy dataframe\n",
    "    for classifier in classifier_list:\n",
    "        preds = classifier.predict(X_test_sc)\n",
    "        accuracy = accuracy_score(y_test, preds)   \n",
    "        precision = precision_score(y_test, preds)\n",
    "        recall = recall_score(y_test, preds)\n",
    "        rocauc = roc_auc_score(y_test, preds)\n",
    "        accuracy_df.append(accuracy*100)\n",
    "        precision_df.append(precision*100)\n",
    "        recall_df.append(recall*100)\n",
    "    accuracy_df = pd.DataFrame(accuracy_df)\n",
    "    precision_df = pd.DataFrame(precision_df)\n",
    "    recall_df = pd.DataFrame(recall_df)\n",
    "\n",
    "    classifiers_key = ['Logistic Regression', 'Support Vector Machine', \n",
    "                       'Decision Tree', 'Random Forests']\n",
    "\n",
    "    # Creating the datafram that displays results\n",
    "    accuracy_df['Model']=classifiers_key\n",
    "    precision_df['Model']=classifiers_key\n",
    "    recall_df['Model']=classifiers_key\n",
    "    accuracy_df.rename(columns={0: 'Accuracy'}, inplace=True)\n",
    "    precision_df.rename(columns={0: 'Precision'}, inplace=True)\n",
    "    recall_df.rename(columns={0: 'Recall'}, inplace=True)\n",
    "    fin_metric_df = accuracy_df[['Model', 'Accuracy']]\n",
    "    \n",
    "    fin_metric_df = fin_metric_df.merge(precision_df,on='Model').merge(recall_df,on='Model')\n",
    "    \n",
    "    # Calculating F1 Score\n",
    "    fin_metric_df['F1 Score'] = (2*((fin_metric_df['Precision']*fin_metric_df['Recall'])\n",
    "                                  /(fin_metric_df['Precision']+fin_metric_df['Recall']))\n",
    "                                )\n",
    "    \n",
    "    return fin_metric_df"
   ]
  },
  {
   "cell_type": "code",
   "execution_count": 27,
   "id": "c9ab3cce",
   "metadata": {
    "scrolled": false
   },
   "outputs": [
    {
     "data": {
      "text/html": [
       "<div>\n",
       "<style scoped>\n",
       "    .dataframe tbody tr th:only-of-type {\n",
       "        vertical-align: middle;\n",
       "    }\n",
       "\n",
       "    .dataframe tbody tr th {\n",
       "        vertical-align: top;\n",
       "    }\n",
       "\n",
       "    .dataframe thead th {\n",
       "        text-align: right;\n",
       "    }\n",
       "</style>\n",
       "<table border=\"1\" class=\"dataframe\">\n",
       "  <thead>\n",
       "    <tr style=\"text-align: right;\">\n",
       "      <th></th>\n",
       "      <th>Model</th>\n",
       "      <th>Accuracy</th>\n",
       "      <th>Precision</th>\n",
       "      <th>Recall</th>\n",
       "      <th>F1 Score</th>\n",
       "    </tr>\n",
       "  </thead>\n",
       "  <tbody>\n",
       "    <tr>\n",
       "      <th>0</th>\n",
       "      <td>Logistic Regression</td>\n",
       "      <td>73.657718</td>\n",
       "      <td>16.568047</td>\n",
       "      <td>63.636364</td>\n",
       "      <td>26.291080</td>\n",
       "    </tr>\n",
       "    <tr>\n",
       "      <th>1</th>\n",
       "      <td>Support Vector Machine</td>\n",
       "      <td>79.362416</td>\n",
       "      <td>19.847328</td>\n",
       "      <td>59.090909</td>\n",
       "      <td>29.714286</td>\n",
       "    </tr>\n",
       "    <tr>\n",
       "      <th>2</th>\n",
       "      <td>Decision Tree</td>\n",
       "      <td>90.268456</td>\n",
       "      <td>26.666667</td>\n",
       "      <td>18.181818</td>\n",
       "      <td>21.621622</td>\n",
       "    </tr>\n",
       "    <tr>\n",
       "      <th>3</th>\n",
       "      <td>Random Forests</td>\n",
       "      <td>88.422819</td>\n",
       "      <td>32.394366</td>\n",
       "      <td>52.272727</td>\n",
       "      <td>40.000000</td>\n",
       "    </tr>\n",
       "  </tbody>\n",
       "</table>\n",
       "</div>"
      ],
      "text/plain": [
       "                    Model   Accuracy  Precision     Recall   F1 Score\n",
       "0     Logistic Regression  73.657718  16.568047  63.636364  26.291080\n",
       "1  Support Vector Machine  79.362416  19.847328  59.090909  29.714286\n",
       "2           Decision Tree  90.268456  26.666667  18.181818  21.621622\n",
       "3          Random Forests  88.422819  32.394366  52.272727  40.000000"
      ]
     },
     "execution_count": 27,
     "metadata": {},
     "output_type": "execute_result"
    },
    {
     "data": {
      "image/png": "[encoded data removed]",
      "text/plain": [
       "<Figure size 432x288 with 1 Axes>"
      ]
     },
     "metadata": {
      "needs_background": "light"
     },
     "output_type": "display_data"
    }
   ],
   "source": [
    "# Cmoparing ROC Curves\n",
    "disp = plot_roc_curve(lr, X_test_sc, y_test)\n",
    "plot_roc_curve(svm, X_test_sc, y_test, ax=disp.ax_);\n",
    "plot_roc_curve(dtree, X_test_sc, y_test, ax=disp.ax_);\n",
    "plot_roc_curve(forest, X_test_sc, y_test, ax=disp.ax_);\n",
    "\n",
    "classifier_performance(X_train_sc, X_test_sc, y_test)"
   ]
  },
  {
   "cell_type": "markdown",
   "id": "e6f52ebe",
   "metadata": {},
   "source": [
    "## Conclusions\n",
    "\n",
    "Based on both the individual model outputs and the direct comparisons, our Random Forests had the best overall performance.\n",
    "\n",
    "I conclude because this classifier has the highest ROC Curve & AUC Score\n",
    "\n",
    "SVM has fewer false positives than Logistic Regression while maintaining a similar Trie Positive rate.\n",
    "\n",
    "In this case, Decision Trees, despite accounting for class imbalances, seem to rely on automatically predicting for 0: songs not being in my playlist."
   ]
  },
  {
   "cell_type": "markdown",
   "id": "9df513a5",
   "metadata": {},
   "source": [
    "# Song Recommendation\n",
    "\n",
    "For this analysis we will be comparing two different routes of content-based song recommendation.\n",
    "\n",
    "One of which will use the cosine similarity from a matrix\n",
    "& The other calculates the manhattan distance of each song from a matrix\n",
    "\n",
    "I am choosing this approach because the goal is to recommend specific songs that are similar to my favorite binge-worthy tunes."
   ]
  },
  {
   "cell_type": "code",
   "execution_count": 28,
   "id": "4db274c9",
   "metadata": {},
   "outputs": [],
   "source": [
    "scaler = MinMaxScaler()\n",
    "normalized_df = scaler.fit_transform(df[feature_names])\n",
    "\n",
    "# Create a pandas series with song titles as indices and indices as series values \n",
    "indices = pd.Series(df.index, index=df['name']).drop_duplicates()\n",
    "\n",
    "# Create cosine similarity matrix based on given matrix\n",
    "cosine = cosine_similarity(normalized_df)\n",
    "# Create manhattan distance matrix based on given matrix\n",
    "manhattan = manhattan_distances(normalized_df)"
   ]
  },
  {
   "cell_type": "markdown",
   "id": "4c332f04",
   "metadata": {},
   "source": [
    "### Cosine Similarity Recommender"
   ]
  },
  {
   "cell_type": "code",
   "execution_count": 29,
   "id": "b5dfbf54",
   "metadata": {},
   "outputs": [],
   "source": [
    "# Function to return Song Recommendations, can select number of entries\n",
    "def cosine_recommendation(name, n_top):\n",
    "    \"\"\"\n",
    "    Purpose: Function for song recommendations \n",
    "    Inputs: song title and type of similarity model\n",
    "    Output: Pandas series of recommended songs\n",
    "    \"\"\"\n",
    "    model_type = cosine\n",
    "    # Get song indices\n",
    "    index = indices[name]\n",
    "    # Get list of songs for given songs\n",
    "    score = list(enumerate(model_type[indices[name]]))\n",
    "    # Sort the most similar songs\n",
    "    similarity_score = sorted(score,key = lambda x:x[1],reverse = True)\n",
    "    top_songs_index = [i[0] for i in similarity_score]\n",
    "    # Top Recommended songs\n",
    "    columns = ['name', 'artist']\n",
    "    top_songs = df[columns].iloc[top_songs_index]\n",
    "    # Dropping first row as it is the searched song\n",
    "    top_songs = top_songs.tail(top_songs.shape[0] -1)\n",
    "    \n",
    "    # Calculating Recommendation Score\n",
    "    y = similarity_score # y_true:  data captured for each song's features after formatting\n",
    "    y_score = score # y_score: data's original score given by the model type\n",
    "    print(f'Recommender Score: {ndcg_score(y, y_score)*100}%')  \n",
    "    \n",
    "    return top_songs[:n_top]"
   ]
  },
  {
   "cell_type": "markdown",
   "id": "cea4d562",
   "metadata": {},
   "source": [
    "### Manhattan Distance Recommender"
   ]
  },
  {
   "cell_type": "code",
   "execution_count": 30,
   "id": "4d331358",
   "metadata": {},
   "outputs": [],
   "source": [
    "# Function to return Song Recommendations, can select number of entries\n",
    "def manhattan_recommendation(name, n_top):\n",
    "    \"\"\"\n",
    "    Purpose: Function for song recommendations \n",
    "    Inputs: song title and type of similarity model\n",
    "    Output: Pandas series of recommended songs\n",
    "    \"\"\"\n",
    "    model_type = manhattan\n",
    "    # Get song indices\n",
    "    index = indices[name]\n",
    "    # Get list of songs for given songs\n",
    "    score = list(enumerate(model_type[indices[name]]))\n",
    "    # Sort songs with closest distance\n",
    "    distance_score = sorted(score,key = lambda x:x[1],reverse = False)\n",
    "    top_songs_index = [i[0] for i in distance_score]\n",
    "    # Top recommended songs\n",
    "    columns = ['name', 'artist']\n",
    "    top_songs = df[columns].iloc[top_songs_index]\n",
    "    # Dropping first row as it is the searched song\n",
    "    top_songs = top_songs.tail(top_songs.shape[0] -1)\n",
    "\n",
    "    # Calculating Recommendation Score\n",
    "    y = distance_score #\n",
    "    y_score = score\n",
    "    print(f'Recommender Score: {ndcg_score(y, y_score)*100}%')\n",
    "    \n",
    "    return top_songs[:n_top]"
   ]
  },
  {
   "cell_type": "markdown",
   "id": "d9555999",
   "metadata": {},
   "source": [
    "### Comparing Recommenders"
   ]
  },
  {
   "cell_type": "code",
   "execution_count": 31,
   "id": "3ae11e60",
   "metadata": {
    "scrolled": false
   },
   "outputs": [
    {
     "name": "stdout",
     "output_type": "stream",
     "text": [
      "Recommender Score: 99.98150439207147%\n"
     ]
    },
    {
     "data": {
      "text/html": [
       "<div>\n",
       "<style scoped>\n",
       "    .dataframe tbody tr th:only-of-type {\n",
       "        vertical-align: middle;\n",
       "    }\n",
       "\n",
       "    .dataframe tbody tr th {\n",
       "        vertical-align: top;\n",
       "    }\n",
       "\n",
       "    .dataframe thead th {\n",
       "        text-align: right;\n",
       "    }\n",
       "</style>\n",
       "<table border=\"1\" class=\"dataframe\">\n",
       "  <thead>\n",
       "    <tr style=\"text-align: right;\">\n",
       "      <th></th>\n",
       "      <th>name</th>\n",
       "      <th>artist</th>\n",
       "    </tr>\n",
       "  </thead>\n",
       "  <tbody>\n",
       "    <tr>\n",
       "      <th>2688</th>\n",
       "      <td>Tessin</td>\n",
       "      <td>lorleaf</td>\n",
       "    </tr>\n",
       "    <tr>\n",
       "      <th>2810</th>\n",
       "      <td>Hit Snooze</td>\n",
       "      <td>High John</td>\n",
       "    </tr>\n",
       "    <tr>\n",
       "      <th>1500</th>\n",
       "      <td>Kalmar</td>\n",
       "      <td>Guzimi</td>\n",
       "    </tr>\n",
       "    <tr>\n",
       "      <th>1599</th>\n",
       "      <td>Nest</td>\n",
       "      <td>don C</td>\n",
       "    </tr>\n",
       "    <tr>\n",
       "      <th>1192</th>\n",
       "      <td>Moving Day</td>\n",
       "      <td>Paul Lovett</td>\n",
       "    </tr>\n",
       "  </tbody>\n",
       "</table>\n",
       "</div>"
      ],
      "text/plain": [
       "            name       artist\n",
       "2688      Tessin      lorleaf\n",
       "2810  Hit Snooze    High John\n",
       "1500      Kalmar       Guzimi\n",
       "1599        Nest        don C\n",
       "1192  Moving Day  Paul Lovett"
      ]
     },
     "execution_count": 31,
     "metadata": {},
     "output_type": "execute_result"
    }
   ],
   "source": [
    "cosine_recommendation('5:32pm',5)"
   ]
  },
  {
   "cell_type": "code",
   "execution_count": 32,
   "id": "b42aa585",
   "metadata": {
    "scrolled": false
   },
   "outputs": [
    {
     "name": "stdout",
     "output_type": "stream",
     "text": [
      "Recommender Score: 99.93146742773692%\n"
     ]
    },
    {
     "data": {
      "text/html": [
       "<div>\n",
       "<style scoped>\n",
       "    .dataframe tbody tr th:only-of-type {\n",
       "        vertical-align: middle;\n",
       "    }\n",
       "\n",
       "    .dataframe tbody tr th {\n",
       "        vertical-align: top;\n",
       "    }\n",
       "\n",
       "    .dataframe thead th {\n",
       "        text-align: right;\n",
       "    }\n",
       "</style>\n",
       "<table border=\"1\" class=\"dataframe\">\n",
       "  <thead>\n",
       "    <tr style=\"text-align: right;\">\n",
       "      <th></th>\n",
       "      <th>name</th>\n",
       "      <th>artist</th>\n",
       "    </tr>\n",
       "  </thead>\n",
       "  <tbody>\n",
       "    <tr>\n",
       "      <th>2688</th>\n",
       "      <td>Tessin</td>\n",
       "      <td>lorleaf</td>\n",
       "    </tr>\n",
       "    <tr>\n",
       "      <th>1569</th>\n",
       "      <td>Slanger</td>\n",
       "      <td>pesto tree</td>\n",
       "    </tr>\n",
       "    <tr>\n",
       "      <th>2810</th>\n",
       "      <td>Hit Snooze</td>\n",
       "      <td>High John</td>\n",
       "    </tr>\n",
       "    <tr>\n",
       "      <th>798</th>\n",
       "      <td>Retro Jam</td>\n",
       "      <td>Blu Tone</td>\n",
       "    </tr>\n",
       "    <tr>\n",
       "      <th>150</th>\n",
       "      <td>Fly Away</td>\n",
       "      <td>Altair Blake</td>\n",
       "    </tr>\n",
       "  </tbody>\n",
       "</table>\n",
       "</div>"
      ],
      "text/plain": [
       "            name        artist\n",
       "2688      Tessin       lorleaf\n",
       "1569     Slanger    pesto tree\n",
       "2810  Hit Snooze     High John\n",
       "798    Retro Jam      Blu Tone\n",
       "150     Fly Away  Altair Blake"
      ]
     },
     "execution_count": 32,
     "metadata": {},
     "output_type": "execute_result"
    }
   ],
   "source": [
    "manhattan_recommendation('5:32pm',5)"
   ]
  },
  {
   "cell_type": "code",
   "execution_count": 33,
   "id": "4cd62040",
   "metadata": {
    "scrolled": false
   },
   "outputs": [
    {
     "name": "stdout",
     "output_type": "stream",
     "text": [
      "Recommender Score: 99.98147683246941%\n"
     ]
    },
    {
     "data": {
      "text/html": [
       "<div>\n",
       "<style scoped>\n",
       "    .dataframe tbody tr th:only-of-type {\n",
       "        vertical-align: middle;\n",
       "    }\n",
       "\n",
       "    .dataframe tbody tr th {\n",
       "        vertical-align: top;\n",
       "    }\n",
       "\n",
       "    .dataframe thead th {\n",
       "        text-align: right;\n",
       "    }\n",
       "</style>\n",
       "<table border=\"1\" class=\"dataframe\">\n",
       "  <thead>\n",
       "    <tr style=\"text-align: right;\">\n",
       "      <th></th>\n",
       "      <th>name</th>\n",
       "      <th>artist</th>\n",
       "    </tr>\n",
       "  </thead>\n",
       "  <tbody>\n",
       "    <tr>\n",
       "      <th>3647</th>\n",
       "      <td>Liza waited</td>\n",
       "      <td>Sail &amp; Weep</td>\n",
       "    </tr>\n",
       "    <tr>\n",
       "      <th>2643</th>\n",
       "      <td>Sleepwalking</td>\n",
       "      <td>Josa</td>\n",
       "    </tr>\n",
       "    <tr>\n",
       "      <th>3744</th>\n",
       "      <td>florida keys</td>\n",
       "      <td>Kolorama</td>\n",
       "    </tr>\n",
       "    <tr>\n",
       "      <th>822</th>\n",
       "      <td>Crescent</td>\n",
       "      <td>URCHN</td>\n",
       "    </tr>\n",
       "    <tr>\n",
       "      <th>1155</th>\n",
       "      <td>Algud</td>\n",
       "      <td>Konteks</td>\n",
       "    </tr>\n",
       "  </tbody>\n",
       "</table>\n",
       "</div>"
      ],
      "text/plain": [
       "              name       artist\n",
       "3647   Liza waited  Sail & Weep\n",
       "2643  Sleepwalking         Josa\n",
       "3744  florida keys     Kolorama\n",
       "822       Crescent        URCHN\n",
       "1155         Algud      Konteks"
      ]
     },
     "execution_count": 33,
     "metadata": {},
     "output_type": "execute_result"
    }
   ],
   "source": [
    "cosine_recommendation('Caliber',5)"
   ]
  },
  {
   "cell_type": "code",
   "execution_count": 34,
   "id": "2fdda3f5",
   "metadata": {
    "scrolled": false
   },
   "outputs": [
    {
     "name": "stdout",
     "output_type": "stream",
     "text": [
      "Recommender Score: 99.9535705238757%\n"
     ]
    },
    {
     "data": {
      "text/html": [
       "<div>\n",
       "<style scoped>\n",
       "    .dataframe tbody tr th:only-of-type {\n",
       "        vertical-align: middle;\n",
       "    }\n",
       "\n",
       "    .dataframe tbody tr th {\n",
       "        vertical-align: top;\n",
       "    }\n",
       "\n",
       "    .dataframe thead th {\n",
       "        text-align: right;\n",
       "    }\n",
       "</style>\n",
       "<table border=\"1\" class=\"dataframe\">\n",
       "  <thead>\n",
       "    <tr style=\"text-align: right;\">\n",
       "      <th></th>\n",
       "      <th>name</th>\n",
       "      <th>artist</th>\n",
       "    </tr>\n",
       "  </thead>\n",
       "  <tbody>\n",
       "    <tr>\n",
       "      <th>3647</th>\n",
       "      <td>Liza waited</td>\n",
       "      <td>Sail &amp; Weep</td>\n",
       "    </tr>\n",
       "    <tr>\n",
       "      <th>3744</th>\n",
       "      <td>florida keys</td>\n",
       "      <td>Kolorama</td>\n",
       "    </tr>\n",
       "    <tr>\n",
       "      <th>1155</th>\n",
       "      <td>Algud</td>\n",
       "      <td>Konteks</td>\n",
       "    </tr>\n",
       "    <tr>\n",
       "      <th>2643</th>\n",
       "      <td>Sleepwalking</td>\n",
       "      <td>Josa</td>\n",
       "    </tr>\n",
       "    <tr>\n",
       "      <th>822</th>\n",
       "      <td>Crescent</td>\n",
       "      <td>URCHN</td>\n",
       "    </tr>\n",
       "  </tbody>\n",
       "</table>\n",
       "</div>"
      ],
      "text/plain": [
       "              name       artist\n",
       "3647   Liza waited  Sail & Weep\n",
       "3744  florida keys     Kolorama\n",
       "1155         Algud      Konteks\n",
       "2643  Sleepwalking         Josa\n",
       "822       Crescent        URCHN"
      ]
     },
     "execution_count": 34,
     "metadata": {},
     "output_type": "execute_result"
    }
   ],
   "source": [
    "manhattan_recommendation('Caliber',5)"
   ]
  },
  {
   "cell_type": "code",
   "execution_count": 35,
   "id": "579df03a",
   "metadata": {
    "scrolled": false
   },
   "outputs": [
    {
     "name": "stdout",
     "output_type": "stream",
     "text": [
      "Recommender Score: 99.98147794610426%\n"
     ]
    },
    {
     "data": {
      "text/html": [
       "<div>\n",
       "<style scoped>\n",
       "    .dataframe tbody tr th:only-of-type {\n",
       "        vertical-align: middle;\n",
       "    }\n",
       "\n",
       "    .dataframe tbody tr th {\n",
       "        vertical-align: top;\n",
       "    }\n",
       "\n",
       "    .dataframe thead th {\n",
       "        text-align: right;\n",
       "    }\n",
       "</style>\n",
       "<table border=\"1\" class=\"dataframe\">\n",
       "  <thead>\n",
       "    <tr style=\"text-align: right;\">\n",
       "      <th></th>\n",
       "      <th>name</th>\n",
       "      <th>artist</th>\n",
       "    </tr>\n",
       "  </thead>\n",
       "  <tbody>\n",
       "    <tr>\n",
       "      <th>115</th>\n",
       "      <td>Samui Sunrise</td>\n",
       "      <td>Saib</td>\n",
       "    </tr>\n",
       "    <tr>\n",
       "      <th>573</th>\n",
       "      <td>Keep On</td>\n",
       "      <td>Seb Wildblood</td>\n",
       "    </tr>\n",
       "    <tr>\n",
       "      <th>2594</th>\n",
       "      <td>Sweet Sunset</td>\n",
       "      <td>Iassu</td>\n",
       "    </tr>\n",
       "    <tr>\n",
       "      <th>851</th>\n",
       "      <td>va y viene</td>\n",
       "      <td>Jiony</td>\n",
       "    </tr>\n",
       "    <tr>\n",
       "      <th>3606</th>\n",
       "      <td>As a friend</td>\n",
       "      <td>Boho Scottish</td>\n",
       "    </tr>\n",
       "  </tbody>\n",
       "</table>\n",
       "</div>"
      ],
      "text/plain": [
       "               name         artist\n",
       "115   Samui Sunrise           Saib\n",
       "573         Keep On  Seb Wildblood\n",
       "2594   Sweet Sunset          Iassu\n",
       "851      va y viene          Jiony\n",
       "3606    As a friend  Boho Scottish"
      ]
     },
     "execution_count": 35,
     "metadata": {},
     "output_type": "execute_result"
    }
   ],
   "source": [
    "cosine_recommendation('Space Cowboy',5)"
   ]
  },
  {
   "cell_type": "code",
   "execution_count": 36,
   "id": "e65ab95b",
   "metadata": {},
   "outputs": [
    {
     "name": "stdout",
     "output_type": "stream",
     "text": [
      "Recommender Score: 99.95326372863843%\n"
     ]
    },
    {
     "data": {
      "text/html": [
       "<div>\n",
       "<style scoped>\n",
       "    .dataframe tbody tr th:only-of-type {\n",
       "        vertical-align: middle;\n",
       "    }\n",
       "\n",
       "    .dataframe tbody tr th {\n",
       "        vertical-align: top;\n",
       "    }\n",
       "\n",
       "    .dataframe thead th {\n",
       "        text-align: right;\n",
       "    }\n",
       "</style>\n",
       "<table border=\"1\" class=\"dataframe\">\n",
       "  <thead>\n",
       "    <tr style=\"text-align: right;\">\n",
       "      <th></th>\n",
       "      <th>name</th>\n",
       "      <th>artist</th>\n",
       "    </tr>\n",
       "  </thead>\n",
       "  <tbody>\n",
       "    <tr>\n",
       "      <th>115</th>\n",
       "      <td>Samui Sunrise</td>\n",
       "      <td>Saib</td>\n",
       "    </tr>\n",
       "    <tr>\n",
       "      <th>1109</th>\n",
       "      <td>Afternoon Break</td>\n",
       "      <td>Raouf Beats</td>\n",
       "    </tr>\n",
       "    <tr>\n",
       "      <th>851</th>\n",
       "      <td>va y viene</td>\n",
       "      <td>Jiony</td>\n",
       "    </tr>\n",
       "    <tr>\n",
       "      <th>573</th>\n",
       "      <td>Keep On</td>\n",
       "      <td>Seb Wildblood</td>\n",
       "    </tr>\n",
       "    <tr>\n",
       "      <th>2164</th>\n",
       "      <td>Out All Night</td>\n",
       "      <td>Ray Ben Rue</td>\n",
       "    </tr>\n",
       "  </tbody>\n",
       "</table>\n",
       "</div>"
      ],
      "text/plain": [
       "                 name         artist\n",
       "115     Samui Sunrise           Saib\n",
       "1109  Afternoon Break    Raouf Beats\n",
       "851        va y viene          Jiony\n",
       "573           Keep On  Seb Wildblood\n",
       "2164    Out All Night    Ray Ben Rue"
      ]
     },
     "execution_count": 36,
     "metadata": {},
     "output_type": "execute_result"
    }
   ],
   "source": [
    "manhattan_recommendation('Space Cowboy',5)"
   ]
  },
  {
   "cell_type": "code",
   "execution_count": 37,
   "id": "c7143987",
   "metadata": {
    "scrolled": false
   },
   "outputs": [
    {
     "name": "stdout",
     "output_type": "stream",
     "text": [
      "Recommender Score: 99.9814827548703%\n"
     ]
    },
    {
     "data": {
      "text/html": [
       "<div>\n",
       "<style scoped>\n",
       "    .dataframe tbody tr th:only-of-type {\n",
       "        vertical-align: middle;\n",
       "    }\n",
       "\n",
       "    .dataframe tbody tr th {\n",
       "        vertical-align: top;\n",
       "    }\n",
       "\n",
       "    .dataframe thead th {\n",
       "        text-align: right;\n",
       "    }\n",
       "</style>\n",
       "<table border=\"1\" class=\"dataframe\">\n",
       "  <thead>\n",
       "    <tr style=\"text-align: right;\">\n",
       "      <th></th>\n",
       "      <th>name</th>\n",
       "      <th>artist</th>\n",
       "    </tr>\n",
       "  </thead>\n",
       "  <tbody>\n",
       "    <tr>\n",
       "      <th>117</th>\n",
       "      <td>When You Call Me</td>\n",
       "      <td>STR4TA</td>\n",
       "    </tr>\n",
       "    <tr>\n",
       "      <th>187</th>\n",
       "      <td>How Long Have You Been Away?</td>\n",
       "      <td>kryptogram</td>\n",
       "    </tr>\n",
       "    <tr>\n",
       "      <th>2282</th>\n",
       "      <td>THE BOTTOM</td>\n",
       "      <td>MICHELLE</td>\n",
       "    </tr>\n",
       "    <tr>\n",
       "      <th>149</th>\n",
       "      <td>Lost Myself</td>\n",
       "      <td>Eric Krasno</td>\n",
       "    </tr>\n",
       "    <tr>\n",
       "      <th>3185</th>\n",
       "      <td>ketamine</td>\n",
       "      <td>siouxxie sixxsta</td>\n",
       "    </tr>\n",
       "  </tbody>\n",
       "</table>\n",
       "</div>"
      ],
      "text/plain": [
       "                              name            artist\n",
       "117               When You Call Me            STR4TA\n",
       "187   How Long Have You Been Away?        kryptogram\n",
       "2282                    THE BOTTOM          MICHELLE\n",
       "149                    Lost Myself       Eric Krasno\n",
       "3185                      ketamine  siouxxie sixxsta"
      ]
     },
     "execution_count": 37,
     "metadata": {},
     "output_type": "execute_result"
    }
   ],
   "source": [
    "cosine_recommendation('Sugar - Original Mix',5)"
   ]
  },
  {
   "cell_type": "code",
   "execution_count": 38,
   "id": "d707d2bf",
   "metadata": {},
   "outputs": [
    {
     "name": "stdout",
     "output_type": "stream",
     "text": [
      "Recommender Score: 99.94807886806895%\n"
     ]
    },
    {
     "data": {
      "text/html": [
       "<div>\n",
       "<style scoped>\n",
       "    .dataframe tbody tr th:only-of-type {\n",
       "        vertical-align: middle;\n",
       "    }\n",
       "\n",
       "    .dataframe tbody tr th {\n",
       "        vertical-align: top;\n",
       "    }\n",
       "\n",
       "    .dataframe thead th {\n",
       "        text-align: right;\n",
       "    }\n",
       "</style>\n",
       "<table border=\"1\" class=\"dataframe\">\n",
       "  <thead>\n",
       "    <tr style=\"text-align: right;\">\n",
       "      <th></th>\n",
       "      <th>name</th>\n",
       "      <th>artist</th>\n",
       "    </tr>\n",
       "  </thead>\n",
       "  <tbody>\n",
       "    <tr>\n",
       "      <th>117</th>\n",
       "      <td>When You Call Me</td>\n",
       "      <td>STR4TA</td>\n",
       "    </tr>\n",
       "    <tr>\n",
       "      <th>2282</th>\n",
       "      <td>THE BOTTOM</td>\n",
       "      <td>MICHELLE</td>\n",
       "    </tr>\n",
       "    <tr>\n",
       "      <th>187</th>\n",
       "      <td>How Long Have You Been Away?</td>\n",
       "      <td>kryptogram</td>\n",
       "    </tr>\n",
       "    <tr>\n",
       "      <th>3185</th>\n",
       "      <td>ketamine</td>\n",
       "      <td>siouxxie sixxsta</td>\n",
       "    </tr>\n",
       "    <tr>\n",
       "      <th>149</th>\n",
       "      <td>Lost Myself</td>\n",
       "      <td>Eric Krasno</td>\n",
       "    </tr>\n",
       "  </tbody>\n",
       "</table>\n",
       "</div>"
      ],
      "text/plain": [
       "                              name            artist\n",
       "117               When You Call Me            STR4TA\n",
       "2282                    THE BOTTOM          MICHELLE\n",
       "187   How Long Have You Been Away?        kryptogram\n",
       "3185                      ketamine  siouxxie sixxsta\n",
       "149                    Lost Myself       Eric Krasno"
      ]
     },
     "execution_count": 38,
     "metadata": {},
     "output_type": "execute_result"
    }
   ],
   "source": [
    "manhattan_recommendation('Sugar - Original Mix',5)"
   ]
  },
  {
   "cell_type": "code",
   "execution_count": 39,
   "id": "b5603a82",
   "metadata": {
    "scrolled": false
   },
   "outputs": [
    {
     "name": "stdout",
     "output_type": "stream",
     "text": [
      "Recommender Score: 99.98156094192557%\n"
     ]
    },
    {
     "data": {
      "text/html": [
       "<div>\n",
       "<style scoped>\n",
       "    .dataframe tbody tr th:only-of-type {\n",
       "        vertical-align: middle;\n",
       "    }\n",
       "\n",
       "    .dataframe tbody tr th {\n",
       "        vertical-align: top;\n",
       "    }\n",
       "\n",
       "    .dataframe thead th {\n",
       "        text-align: right;\n",
       "    }\n",
       "</style>\n",
       "<table border=\"1\" class=\"dataframe\">\n",
       "  <thead>\n",
       "    <tr style=\"text-align: right;\">\n",
       "      <th></th>\n",
       "      <th>name</th>\n",
       "      <th>artist</th>\n",
       "    </tr>\n",
       "  </thead>\n",
       "  <tbody>\n",
       "    <tr>\n",
       "      <th>2748</th>\n",
       "      <td>Segundi</td>\n",
       "      <td>Fuzl</td>\n",
       "    </tr>\n",
       "    <tr>\n",
       "      <th>1582</th>\n",
       "      <td>Umami</td>\n",
       "      <td>Lito Akari</td>\n",
       "    </tr>\n",
       "    <tr>\n",
       "      <th>3699</th>\n",
       "      <td>Well, I Guess It Has Been a Vibe</td>\n",
       "      <td>PETITE FESSE</td>\n",
       "    </tr>\n",
       "    <tr>\n",
       "      <th>253</th>\n",
       "      <td>runnersz</td>\n",
       "      <td>Joy Orbison</td>\n",
       "    </tr>\n",
       "    <tr>\n",
       "      <th>2106</th>\n",
       "      <td>Bless U</td>\n",
       "      <td>Twit One</td>\n",
       "    </tr>\n",
       "  </tbody>\n",
       "</table>\n",
       "</div>"
      ],
      "text/plain": [
       "                                  name        artist\n",
       "2748                           Segundi          Fuzl\n",
       "1582                             Umami    Lito Akari\n",
       "3699  Well, I Guess It Has Been a Vibe  PETITE FESSE\n",
       "253                           runnersz   Joy Orbison\n",
       "2106                           Bless U      Twit One"
      ]
     },
     "execution_count": 39,
     "metadata": {},
     "output_type": "execute_result"
    }
   ],
   "source": [
    "cosine_recommendation('That\\'s Just Me',5)"
   ]
  },
  {
   "cell_type": "code",
   "execution_count": 40,
   "id": "e3eb015a",
   "metadata": {},
   "outputs": [
    {
     "name": "stdout",
     "output_type": "stream",
     "text": [
      "Recommender Score: 99.94579087669796%\n"
     ]
    },
    {
     "data": {
      "text/html": [
       "<div>\n",
       "<style scoped>\n",
       "    .dataframe tbody tr th:only-of-type {\n",
       "        vertical-align: middle;\n",
       "    }\n",
       "\n",
       "    .dataframe tbody tr th {\n",
       "        vertical-align: top;\n",
       "    }\n",
       "\n",
       "    .dataframe thead th {\n",
       "        text-align: right;\n",
       "    }\n",
       "</style>\n",
       "<table border=\"1\" class=\"dataframe\">\n",
       "  <thead>\n",
       "    <tr style=\"text-align: right;\">\n",
       "      <th></th>\n",
       "      <th>name</th>\n",
       "      <th>artist</th>\n",
       "    </tr>\n",
       "  </thead>\n",
       "  <tbody>\n",
       "    <tr>\n",
       "      <th>2106</th>\n",
       "      <td>Bless U</td>\n",
       "      <td>Twit One</td>\n",
       "    </tr>\n",
       "    <tr>\n",
       "      <th>2748</th>\n",
       "      <td>Segundi</td>\n",
       "      <td>Fuzl</td>\n",
       "    </tr>\n",
       "    <tr>\n",
       "      <th>3699</th>\n",
       "      <td>Well, I Guess It Has Been a Vibe</td>\n",
       "      <td>PETITE FESSE</td>\n",
       "    </tr>\n",
       "    <tr>\n",
       "      <th>253</th>\n",
       "      <td>runnersz</td>\n",
       "      <td>Joy Orbison</td>\n",
       "    </tr>\n",
       "    <tr>\n",
       "      <th>991</th>\n",
       "      <td>Cloudscape</td>\n",
       "      <td>SōNE</td>\n",
       "    </tr>\n",
       "  </tbody>\n",
       "</table>\n",
       "</div>"
      ],
      "text/plain": [
       "                                  name        artist\n",
       "2106                           Bless U      Twit One\n",
       "2748                           Segundi          Fuzl\n",
       "3699  Well, I Guess It Has Been a Vibe  PETITE FESSE\n",
       "253                           runnersz   Joy Orbison\n",
       "991                         Cloudscape          SōNE"
      ]
     },
     "execution_count": 40,
     "metadata": {},
     "output_type": "execute_result"
    }
   ],
   "source": [
    "manhattan_recommendation('That\\'s Just Me',5)"
   ]
  },
  {
   "cell_type": "code",
   "execution_count": 41,
   "id": "e70d1bc2",
   "metadata": {
    "scrolled": false
   },
   "outputs": [
    {
     "name": "stdout",
     "output_type": "stream",
     "text": [
      "Recommender Score: 99.98159280612485%\n"
     ]
    },
    {
     "data": {
      "text/html": [
       "<div>\n",
       "<style scoped>\n",
       "    .dataframe tbody tr th:only-of-type {\n",
       "        vertical-align: middle;\n",
       "    }\n",
       "\n",
       "    .dataframe tbody tr th {\n",
       "        vertical-align: top;\n",
       "    }\n",
       "\n",
       "    .dataframe thead th {\n",
       "        text-align: right;\n",
       "    }\n",
       "</style>\n",
       "<table border=\"1\" class=\"dataframe\">\n",
       "  <thead>\n",
       "    <tr style=\"text-align: right;\">\n",
       "      <th></th>\n",
       "      <th>name</th>\n",
       "      <th>artist</th>\n",
       "    </tr>\n",
       "  </thead>\n",
       "  <tbody>\n",
       "    <tr>\n",
       "      <th>787</th>\n",
       "      <td>Mango Bathing</td>\n",
       "      <td>Nick Mosh</td>\n",
       "    </tr>\n",
       "    <tr>\n",
       "      <th>3990</th>\n",
       "      <td>Rotterdam Rita</td>\n",
       "      <td>Fletcher Reed</td>\n",
       "    </tr>\n",
       "    <tr>\n",
       "      <th>786</th>\n",
       "      <td>Light-Hearted Lady</td>\n",
       "      <td>High John</td>\n",
       "    </tr>\n",
       "    <tr>\n",
       "      <th>250</th>\n",
       "      <td>Night Owl</td>\n",
       "      <td>Cihangir Aslan</td>\n",
       "    </tr>\n",
       "    <tr>\n",
       "      <th>750</th>\n",
       "      <td>Hour and half</td>\n",
       "      <td>Lunatic Sad</td>\n",
       "    </tr>\n",
       "  </tbody>\n",
       "</table>\n",
       "</div>"
      ],
      "text/plain": [
       "                    name          artist\n",
       "787        Mango Bathing       Nick Mosh\n",
       "3990      Rotterdam Rita   Fletcher Reed\n",
       "786   Light-Hearted Lady       High John\n",
       "250            Night Owl  Cihangir Aslan\n",
       "750        Hour and half     Lunatic Sad"
      ]
     },
     "execution_count": 41,
     "metadata": {},
     "output_type": "execute_result"
    }
   ],
   "source": [
    "cosine_recommendation('Green Lights',5)"
   ]
  },
  {
   "cell_type": "code",
   "execution_count": 42,
   "id": "09b3f1ef",
   "metadata": {
    "scrolled": false
   },
   "outputs": [
    {
     "name": "stdout",
     "output_type": "stream",
     "text": [
      "Recommender Score: 99.93266310852351%\n"
     ]
    },
    {
     "data": {
      "text/html": [
       "<div>\n",
       "<style scoped>\n",
       "    .dataframe tbody tr th:only-of-type {\n",
       "        vertical-align: middle;\n",
       "    }\n",
       "\n",
       "    .dataframe tbody tr th {\n",
       "        vertical-align: top;\n",
       "    }\n",
       "\n",
       "    .dataframe thead th {\n",
       "        text-align: right;\n",
       "    }\n",
       "</style>\n",
       "<table border=\"1\" class=\"dataframe\">\n",
       "  <thead>\n",
       "    <tr style=\"text-align: right;\">\n",
       "      <th></th>\n",
       "      <th>name</th>\n",
       "      <th>artist</th>\n",
       "    </tr>\n",
       "  </thead>\n",
       "  <tbody>\n",
       "    <tr>\n",
       "      <th>786</th>\n",
       "      <td>Light-Hearted Lady</td>\n",
       "      <td>High John</td>\n",
       "    </tr>\n",
       "    <tr>\n",
       "      <th>3990</th>\n",
       "      <td>Rotterdam Rita</td>\n",
       "      <td>Fletcher Reed</td>\n",
       "    </tr>\n",
       "    <tr>\n",
       "      <th>787</th>\n",
       "      <td>Mango Bathing</td>\n",
       "      <td>Nick Mosh</td>\n",
       "    </tr>\n",
       "    <tr>\n",
       "      <th>250</th>\n",
       "      <td>Night Owl</td>\n",
       "      <td>Cihangir Aslan</td>\n",
       "    </tr>\n",
       "    <tr>\n",
       "      <th>99</th>\n",
       "      <td>Fireworks</td>\n",
       "      <td>Nymano</td>\n",
       "    </tr>\n",
       "  </tbody>\n",
       "</table>\n",
       "</div>"
      ],
      "text/plain": [
       "                    name          artist\n",
       "786   Light-Hearted Lady       High John\n",
       "3990      Rotterdam Rita   Fletcher Reed\n",
       "787        Mango Bathing       Nick Mosh\n",
       "250            Night Owl  Cihangir Aslan\n",
       "99             Fireworks          Nymano"
      ]
     },
     "execution_count": 42,
     "metadata": {},
     "output_type": "execute_result"
    }
   ],
   "source": [
    "manhattan_recommendation('Green Lights',5)"
   ]
  },
  {
   "cell_type": "code",
   "execution_count": 43,
   "id": "69726b53",
   "metadata": {
    "scrolled": false
   },
   "outputs": [
    {
     "name": "stdout",
     "output_type": "stream",
     "text": [
      "Recommender Score: 99.98148149621754%\n"
     ]
    },
    {
     "data": {
      "text/html": [
       "<div>\n",
       "<style scoped>\n",
       "    .dataframe tbody tr th:only-of-type {\n",
       "        vertical-align: middle;\n",
       "    }\n",
       "\n",
       "    .dataframe tbody tr th {\n",
       "        vertical-align: top;\n",
       "    }\n",
       "\n",
       "    .dataframe thead th {\n",
       "        text-align: right;\n",
       "    }\n",
       "</style>\n",
       "<table border=\"1\" class=\"dataframe\">\n",
       "  <thead>\n",
       "    <tr style=\"text-align: right;\">\n",
       "      <th></th>\n",
       "      <th>name</th>\n",
       "      <th>artist</th>\n",
       "    </tr>\n",
       "  </thead>\n",
       "  <tbody>\n",
       "    <tr>\n",
       "      <th>164</th>\n",
       "      <td>Say Yes</td>\n",
       "      <td>C4C</td>\n",
       "    </tr>\n",
       "    <tr>\n",
       "      <th>3824</th>\n",
       "      <td>Slow Gaze</td>\n",
       "      <td>SASAF</td>\n",
       "    </tr>\n",
       "    <tr>\n",
       "      <th>45</th>\n",
       "      <td>Gardens</td>\n",
       "      <td>Various Artists</td>\n",
       "    </tr>\n",
       "    <tr>\n",
       "      <th>1071</th>\n",
       "      <td>olvido</td>\n",
       "      <td>tres islas</td>\n",
       "    </tr>\n",
       "    <tr>\n",
       "      <th>3159</th>\n",
       "      <td>Asdikte Akal - Yugen Blakrok Remix</td>\n",
       "      <td>Mdou Moctar</td>\n",
       "    </tr>\n",
       "  </tbody>\n",
       "</table>\n",
       "</div>"
      ],
      "text/plain": [
       "                                    name           artist\n",
       "164                              Say Yes              C4C\n",
       "3824                           Slow Gaze            SASAF\n",
       "45                               Gardens  Various Artists\n",
       "1071                              olvido       tres islas\n",
       "3159  Asdikte Akal - Yugen Blakrok Remix      Mdou Moctar"
      ]
     },
     "execution_count": 43,
     "metadata": {},
     "output_type": "execute_result"
    }
   ],
   "source": [
    "cosine_recommendation('Don\\'t Give Up',5)"
   ]
  },
  {
   "cell_type": "code",
   "execution_count": 44,
   "id": "7ec391c9",
   "metadata": {},
   "outputs": [
    {
     "name": "stdout",
     "output_type": "stream",
     "text": [
      "Recommender Score: 99.95466100735445%\n"
     ]
    },
    {
     "data": {
      "text/html": [
       "<div>\n",
       "<style scoped>\n",
       "    .dataframe tbody tr th:only-of-type {\n",
       "        vertical-align: middle;\n",
       "    }\n",
       "\n",
       "    .dataframe tbody tr th {\n",
       "        vertical-align: top;\n",
       "    }\n",
       "\n",
       "    .dataframe thead th {\n",
       "        text-align: right;\n",
       "    }\n",
       "</style>\n",
       "<table border=\"1\" class=\"dataframe\">\n",
       "  <thead>\n",
       "    <tr style=\"text-align: right;\">\n",
       "      <th></th>\n",
       "      <th>name</th>\n",
       "      <th>artist</th>\n",
       "    </tr>\n",
       "  </thead>\n",
       "  <tbody>\n",
       "    <tr>\n",
       "      <th>164</th>\n",
       "      <td>Say Yes</td>\n",
       "      <td>C4C</td>\n",
       "    </tr>\n",
       "    <tr>\n",
       "      <th>45</th>\n",
       "      <td>Gardens</td>\n",
       "      <td>Various Artists</td>\n",
       "    </tr>\n",
       "    <tr>\n",
       "      <th>1071</th>\n",
       "      <td>olvido</td>\n",
       "      <td>tres islas</td>\n",
       "    </tr>\n",
       "    <tr>\n",
       "      <th>3824</th>\n",
       "      <td>Slow Gaze</td>\n",
       "      <td>SASAF</td>\n",
       "    </tr>\n",
       "    <tr>\n",
       "      <th>1013</th>\n",
       "      <td>Before the Sun</td>\n",
       "      <td>Dr. Dundiff</td>\n",
       "    </tr>\n",
       "  </tbody>\n",
       "</table>\n",
       "</div>"
      ],
      "text/plain": [
       "                name           artist\n",
       "164          Say Yes              C4C\n",
       "45           Gardens  Various Artists\n",
       "1071          olvido       tres islas\n",
       "3824       Slow Gaze            SASAF\n",
       "1013  Before the Sun      Dr. Dundiff"
      ]
     },
     "execution_count": 44,
     "metadata": {},
     "output_type": "execute_result"
    }
   ],
   "source": [
    "manhattan_recommendation('Don\\'t Give Up',5)"
   ]
  },
  {
   "cell_type": "markdown",
   "id": "935f7597",
   "metadata": {},
   "source": [
    "# Conclusions\n",
    "Though these two different recommenders return different results, there appears to be an agreement with some songs in their results.\n",
    "\n",
    "Due to the songs having similar features throughout all variables, tracks that appear in both recommenders must be reliable matches to the music searched and might be a likely lead to be added to my playlist.\n",
    "\n",
    "There are also some instances of recommended songs that are already present in my playlist. But that can be attributed to them being present in this dataset\n",
    "\n",
    "My takeaway is that the standard Cosine Similarity Recommender is slightly better, beecause it has an overall more consistent performance of 99.98% with the nDCG metric. Ranking each entry in a more proper order"
   ]
  }
 ],
 "metadata": {
  "kernelspec": {
   "display_name": "Python 3",
   "language": "python",
   "name": "python3"
  },
  "language_info": {
   "codemirror_mode": {
    "name": "ipython",
    "version": 3
   },
   "file_extension": ".py",
   "mimetype": "text/x-python",
   "name": "python",
   "nbconvert_exporter": "python",
   "pygments_lexer": "ipython3",
   "version": "3.9.5"
  }
 },
 "nbformat": 4,
 "nbformat_minor": 5
}
